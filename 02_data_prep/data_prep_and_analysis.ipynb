{
 "cells": [
  {
   "cell_type": "markdown",
   "id": "efa295f1-5a2c-470d-ba04-77088e83a341",
   "metadata": {},
   "source": [
    "**This notebook aims to analyze and prepare data for the Amex Default Prediction Project. The key steps include:**\n",
    "\n",
    "**Loading the training and test datasets**\n",
    "\n",
    "**Performing Exploratory Data Analysis (EDA)**\n",
    "\n",
    "**Conducting Data Preprocessing**\n",
    "\n",
    "**Applying Feature Selection using:**\n",
    "\n",
    "**Information Value (IV) for predictive power**\n",
    "\n",
    "**Correlation analysis to identify and remove multicollinearity**\n",
    "\n",
    "**This notebook explains the process and technique how from 189 features we reduced the features to 72 odd features**\n",
    "\n",
    "**For the sake of data security the column names have been renamed by Amex while sharing it on Kaggle**"
   ]
  },
  {
   "cell_type": "markdown",
   "id": "aea748ef-cf2f-49e5-a38a-911f813defa0",
   "metadata": {},
   "source": [
    "## Importing all the required libraries ##"
   ]
  },
  {
   "cell_type": "code",
   "execution_count": 1,
   "id": "27ba1c04-bd6b-4892-b7cf-f439e8a7fdfa",
   "metadata": {},
   "outputs": [],
   "source": [
    "import pandas as pd\n",
    "import gc\n",
    "import numpy as np\n",
    "import matplotlib.pyplot as plt\n",
    "import seaborn as sns"
   ]
  },
  {
   "cell_type": "markdown",
   "id": "ea2eaba3-6445-4014-b838-fe30a2780d04",
   "metadata": {},
   "source": [
    "## Loading the train dataset of Amex and merging it with the target(customer default) variable present within train_labels ##"
   ]
  },
  {
   "cell_type": "markdown",
   "id": "72183ed1-4920-479e-a644-72017b0ef18b",
   "metadata": {},
   "source": [
    "#### Since the train data is of 18 Gb , we shall consider 70k records from the train set to build the model and to be able to push the data files into Github repository ####"
   ]
  },
  {
   "cell_type": "code",
   "execution_count": 2,
   "id": "a2fb72aa-11cb-4e59-b4cd-e215edd95f8e",
   "metadata": {},
   "outputs": [
    {
     "name": "stdout",
     "output_type": "stream",
     "text": [
      "(70000, 190)\n"
     ]
    }
   ],
   "source": [
    "train_iter_obj = pd.read_csv('/Users/anugrahrastogi21gmail.com/Downloads/amex-default-prediction/train_data.csv', chunksize=7_000_0)  # 0.5 million rows per chunk\n",
    "\n",
    "for train_chunk in train_iter_obj:\n",
    "    print(train_chunk.shape)\n",
    "    # process or save each chunk\n",
    "    train_chunk.to_csv(\"/Users/anugrahrastogi21gmail.com/Documents/USD_project/customer-credit-default-prediction/01_data/train_data.csv\", index=False)\n",
    "    break\n",
    "    "
   ]
  },
  {
   "cell_type": "code",
   "execution_count": 3,
   "id": "f2c976aa-20b3-43c7-b5e4-d17452bf166e",
   "metadata": {
    "scrolled": true
   },
   "outputs": [
    {
     "name": "stdout",
     "output_type": "stream",
     "text": [
      "117.51184463500977\n"
     ]
    },
    {
     "data": {
      "text/plain": [
       "((70000, 191), (70000, 190))"
      ]
     },
     "execution_count": 3,
     "metadata": {},
     "output_type": "execute_result"
    }
   ],
   "source": [
    "train_df = pd.read_csv(\"/Users/anugrahrastogi21gmail.com/Documents/USD_project/customer-credit-default-prediction/01_data/train_data.csv\")\n",
    "memory_bytes = train_df.memory_usage(deep=True).sum()\n",
    "memory_mb = memory_bytes / (1024 * 1024)\n",
    "print(memory_mb)\n",
    "train_labels_df = pd.read_csv(\"/Users/anugrahrastogi21gmail.com/Downloads/amex-default-prediction/train_labels.csv\")\n",
    "\n",
    "train_df_complete = pd.merge(train_df, train_labels_df, how=\"inner\", on=\"customer_ID\")\n",
    "\n",
    "train_df_complete.shape, train_df.shape"
   ]
  },
  {
   "cell_type": "markdown",
   "id": "9ed8dc25-8114-40ac-90b6-f3013b8fa2d4",
   "metadata": {},
   "source": [
    "## EDA (Exploraotory data analysis) ##"
   ]
  },
  {
   "cell_type": "markdown",
   "id": "c2a4b914-9e1d-480b-a1b9-ba15e6922555",
   "metadata": {},
   "source": [
    "#### Description of the train dataset ####"
   ]
  },
  {
   "cell_type": "code",
   "execution_count": 4,
   "id": "9a578c65-6ee2-4ff8-a782-ff5a419cc5e0",
   "metadata": {
    "scrolled": true
   },
   "outputs": [
    {
     "data": {
      "text/html": [
       "<div>\n",
       "<style scoped>\n",
       "    .dataframe tbody tr th:only-of-type {\n",
       "        vertical-align: middle;\n",
       "    }\n",
       "\n",
       "    .dataframe tbody tr th {\n",
       "        vertical-align: top;\n",
       "    }\n",
       "\n",
       "    .dataframe thead th {\n",
       "        text-align: right;\n",
       "    }\n",
       "</style>\n",
       "<table border=\"1\" class=\"dataframe\">\n",
       "  <thead>\n",
       "    <tr style=\"text-align: right;\">\n",
       "      <th></th>\n",
       "      <th>count</th>\n",
       "      <th>mean</th>\n",
       "      <th>std</th>\n",
       "      <th>min</th>\n",
       "      <th>25%</th>\n",
       "      <th>50%</th>\n",
       "      <th>75%</th>\n",
       "      <th>max</th>\n",
       "    </tr>\n",
       "  </thead>\n",
       "  <tbody>\n",
       "    <tr>\n",
       "      <th>P_2</th>\n",
       "      <td>69427.0</td>\n",
       "      <td>0.655315</td>\n",
       "      <td>0.246852</td>\n",
       "      <td>-3.830190e-01</td>\n",
       "      <td>0.476650</td>\n",
       "      <td>0.694480</td>\n",
       "      <td>0.866688</td>\n",
       "      <td>1.009998</td>\n",
       "    </tr>\n",
       "    <tr>\n",
       "      <th>D_39</th>\n",
       "      <td>70000.0</td>\n",
       "      <td>0.154490</td>\n",
       "      <td>0.272714</td>\n",
       "      <td>8.701630e-07</td>\n",
       "      <td>0.004576</td>\n",
       "      <td>0.009121</td>\n",
       "      <td>0.236133</td>\n",
       "      <td>5.331360</td>\n",
       "    </tr>\n",
       "    <tr>\n",
       "      <th>B_1</th>\n",
       "      <td>70000.0</td>\n",
       "      <td>0.126764</td>\n",
       "      <td>0.215641</td>\n",
       "      <td>-1.956662e-01</td>\n",
       "      <td>0.008832</td>\n",
       "      <td>0.032111</td>\n",
       "      <td>0.129060</td>\n",
       "      <td>1.324053</td>\n",
       "    </tr>\n",
       "    <tr>\n",
       "      <th>B_2</th>\n",
       "      <td>69977.0</td>\n",
       "      <td>0.614745</td>\n",
       "      <td>0.402095</td>\n",
       "      <td>3.308280e-06</td>\n",
       "      <td>0.098566</td>\n",
       "      <td>0.814030</td>\n",
       "      <td>1.002162</td>\n",
       "      <td>1.010000</td>\n",
       "    </tr>\n",
       "    <tr>\n",
       "      <th>R_1</th>\n",
       "      <td>70000.0</td>\n",
       "      <td>0.080526</td>\n",
       "      <td>0.229780</td>\n",
       "      <td>2.880975e-07</td>\n",
       "      <td>0.002870</td>\n",
       "      <td>0.005756</td>\n",
       "      <td>0.008651</td>\n",
       "      <td>2.507711</td>\n",
       "    </tr>\n",
       "    <tr>\n",
       "      <th>...</th>\n",
       "      <td>...</td>\n",
       "      <td>...</td>\n",
       "      <td>...</td>\n",
       "      <td>...</td>\n",
       "      <td>...</td>\n",
       "      <td>...</td>\n",
       "      <td>...</td>\n",
       "      <td>...</td>\n",
       "    </tr>\n",
       "    <tr>\n",
       "      <th>D_142</th>\n",
       "      <td>11789.0</td>\n",
       "      <td>0.392237</td>\n",
       "      <td>0.243633</td>\n",
       "      <td>-1.394664e-02</td>\n",
       "      <td>0.188239</td>\n",
       "      <td>0.384605</td>\n",
       "      <td>0.569647</td>\n",
       "      <td>1.751388</td>\n",
       "    </tr>\n",
       "    <tr>\n",
       "      <th>D_143</th>\n",
       "      <td>68765.0</td>\n",
       "      <td>0.176145</td>\n",
       "      <td>0.376643</td>\n",
       "      <td>1.653580e-08</td>\n",
       "      <td>0.003019</td>\n",
       "      <td>0.006060</td>\n",
       "      <td>0.009040</td>\n",
       "      <td>1.010000</td>\n",
       "    </tr>\n",
       "    <tr>\n",
       "      <th>D_144</th>\n",
       "      <td>69490.0</td>\n",
       "      <td>0.054539</td>\n",
       "      <td>0.188182</td>\n",
       "      <td>4.053056e-07</td>\n",
       "      <td>0.002748</td>\n",
       "      <td>0.005501</td>\n",
       "      <td>0.008259</td>\n",
       "      <td>1.343284</td>\n",
       "    </tr>\n",
       "    <tr>\n",
       "      <th>D_145</th>\n",
       "      <td>68765.0</td>\n",
       "      <td>0.060399</td>\n",
       "      <td>0.196428</td>\n",
       "      <td>4.609489e-08</td>\n",
       "      <td>0.003030</td>\n",
       "      <td>0.006021</td>\n",
       "      <td>0.009040</td>\n",
       "      <td>4.282032</td>\n",
       "    </tr>\n",
       "    <tr>\n",
       "      <th>target</th>\n",
       "      <td>70000.0</td>\n",
       "      <td>0.252086</td>\n",
       "      <td>0.434213</td>\n",
       "      <td>0.000000e+00</td>\n",
       "      <td>0.000000</td>\n",
       "      <td>0.000000</td>\n",
       "      <td>1.000000</td>\n",
       "      <td>1.000000</td>\n",
       "    </tr>\n",
       "  </tbody>\n",
       "</table>\n",
       "<p>187 rows × 8 columns</p>\n",
       "</div>"
      ],
      "text/plain": [
       "          count      mean       std           min       25%       50%  \\\n",
       "P_2     69427.0  0.655315  0.246852 -3.830190e-01  0.476650  0.694480   \n",
       "D_39    70000.0  0.154490  0.272714  8.701630e-07  0.004576  0.009121   \n",
       "B_1     70000.0  0.126764  0.215641 -1.956662e-01  0.008832  0.032111   \n",
       "B_2     69977.0  0.614745  0.402095  3.308280e-06  0.098566  0.814030   \n",
       "R_1     70000.0  0.080526  0.229780  2.880975e-07  0.002870  0.005756   \n",
       "...         ...       ...       ...           ...       ...       ...   \n",
       "D_142   11789.0  0.392237  0.243633 -1.394664e-02  0.188239  0.384605   \n",
       "D_143   68765.0  0.176145  0.376643  1.653580e-08  0.003019  0.006060   \n",
       "D_144   69490.0  0.054539  0.188182  4.053056e-07  0.002748  0.005501   \n",
       "D_145   68765.0  0.060399  0.196428  4.609489e-08  0.003030  0.006021   \n",
       "target  70000.0  0.252086  0.434213  0.000000e+00  0.000000  0.000000   \n",
       "\n",
       "             75%       max  \n",
       "P_2     0.866688  1.009998  \n",
       "D_39    0.236133  5.331360  \n",
       "B_1     0.129060  1.324053  \n",
       "B_2     1.002162  1.010000  \n",
       "R_1     0.008651  2.507711  \n",
       "...          ...       ...  \n",
       "D_142   0.569647  1.751388  \n",
       "D_143   0.009040  1.010000  \n",
       "D_144   0.008259  1.343284  \n",
       "D_145   0.009040  4.282032  \n",
       "target  1.000000  1.000000  \n",
       "\n",
       "[187 rows x 8 columns]"
      ]
     },
     "execution_count": 4,
     "metadata": {},
     "output_type": "execute_result"
    }
   ],
   "source": [
    "train_df_complete.describe().T  "
   ]
  },
  {
   "cell_type": "markdown",
   "id": "564e1d9f-cf07-498c-9dac-b9ab88293368",
   "metadata": {},
   "source": [
    "#### Observing the above description of the train dataset , convert 'S_2' column which is a date column to datetime ####"
   ]
  },
  {
   "cell_type": "code",
   "execution_count": 5,
   "id": "eda4a193-d89b-4676-92f5-dea4ebd22d0c",
   "metadata": {},
   "outputs": [],
   "source": [
    "train_df_complete['S_2'] = pd.to_datetime(train_df_complete['S_2'])"
   ]
  },
  {
   "cell_type": "markdown",
   "id": "163c8b3a-63d9-4f72-947f-3d04ce12bff0",
   "metadata": {},
   "source": [
    "#### Count of numerical and caterocial columns ####"
   ]
  },
  {
   "cell_type": "code",
   "execution_count": 6,
   "id": "535acaf8-7104-40a0-bfb3-b1d89a8f2232",
   "metadata": {},
   "outputs": [
    {
     "name": "stdout",
     "output_type": "stream",
     "text": [
      "number of numerical columns:  187 \n",
      " number of categorical columns:  3\n"
     ]
    }
   ],
   "source": [
    "numerical_columns = train_df_complete.select_dtypes(include=['number']).columns.tolist()\n",
    "categorical_columns = train_df_complete.select_dtypes(include=['object', 'category']).columns.tolist()\n",
    "\n",
    "print(\"number of numerical columns: \", len(numerical_columns),'\\n', \n",
    "      \"number of categorical columns: \", len(categorical_columns))\n"
   ]
  },
  {
   "cell_type": "markdown",
   "id": "8ae35175-6b17-4023-a84b-8cc016e962c4",
   "metadata": {},
   "source": [
    "#### As observed above, there are 187 numerical columns and 3 categorical columns ####"
   ]
  },
  {
   "cell_type": "markdown",
   "id": "922b72cb-9176-4c60-923a-330b4289bc37",
   "metadata": {},
   "source": [
    "#### checking whether there are null values in the train dataset ####"
   ]
  },
  {
   "cell_type": "code",
   "execution_count": 7,
   "id": "1f87c3ba-902b-4c21-a22d-11b666b35856",
   "metadata": {
    "scrolled": true
   },
   "outputs": [],
   "source": [
    "null_value_df = pd.DataFrame({'column_name':train_df_complete.isnull().sum().index, \n",
    "                                 'null_count':train_df_complete.isnull().sum().values})\n",
    "\n",
    "null_value_df[\"percent_missing\"] = null_value_df[\"null_count\"]*100 / len(train_df_complete)\n",
    "null_value_df.sort_values('percent_missing',  ascending=False).to_csv(\"null_percentage_df.csv\", index=False)\n",
    "\n"
   ]
  },
  {
   "cell_type": "markdown",
   "id": "467056fd-68a5-4251-94f3-5f10547287a3",
   "metadata": {},
   "source": [
    "#### Removing columns which have more than 90% of null values ####"
   ]
  },
  {
   "cell_type": "code",
   "execution_count": 8,
   "id": "79334fa5-5871-4f79-bd25-8bcf287be863",
   "metadata": {
    "scrolled": true
   },
   "outputs": [
    {
     "name": "stdout",
     "output_type": "stream",
     "text": [
      "count of null value columns to be dropeed:  15\n",
      "shape of train dataset after droppping null valued columns:  (70000, 176)\n"
     ]
    }
   ],
   "source": [
    "null_columns = null_value_df[null_value_df[\"percent_missing\"] > 90][\"column_name\"].to_list()\n",
    "print(\"count of null value columns to be dropeed: \", len(null_columns))\n",
    "train_df_complete = train_df_complete.drop(null_columns, axis=1)\n",
    "print(\"shape of train dataset after droppping null valued columns: \", train_df_complete.shape)"
   ]
  },
  {
   "cell_type": "markdown",
   "id": "5caa840d-ac3a-4c2d-b164-ad646e6d59dd",
   "metadata": {},
   "source": [
    "#### checking whether there are zero values in the train dataset ####"
   ]
  },
  {
   "cell_type": "code",
   "execution_count": 9,
   "id": "a59d8e62-4680-469f-8d27-3ac4e1e7c2ff",
   "metadata": {
    "scrolled": true
   },
   "outputs": [
    {
     "data": {
      "text/html": [
       "<div>\n",
       "<style scoped>\n",
       "    .dataframe tbody tr th:only-of-type {\n",
       "        vertical-align: middle;\n",
       "    }\n",
       "\n",
       "    .dataframe tbody tr th {\n",
       "        vertical-align: top;\n",
       "    }\n",
       "\n",
       "    .dataframe thead th {\n",
       "        text-align: right;\n",
       "    }\n",
       "</style>\n",
       "<table border=\"1\" class=\"dataframe\">\n",
       "  <thead>\n",
       "    <tr style=\"text-align: right;\">\n",
       "      <th></th>\n",
       "      <th>column_name</th>\n",
       "      <th>zero_count</th>\n",
       "      <th>percent_zeros</th>\n",
       "    </tr>\n",
       "  </thead>\n",
       "  <tbody>\n",
       "    <tr>\n",
       "      <th>148</th>\n",
       "      <td>D_116</td>\n",
       "      <td>67703</td>\n",
       "      <td>96.718571</td>\n",
       "    </tr>\n",
       "    <tr>\n",
       "      <th>152</th>\n",
       "      <td>D_120</td>\n",
       "      <td>59542</td>\n",
       "      <td>85.060000</td>\n",
       "    </tr>\n",
       "    <tr>\n",
       "      <th>102</th>\n",
       "      <td>B_30</td>\n",
       "      <td>59400</td>\n",
       "      <td>84.857143</td>\n",
       "    </tr>\n",
       "    <tr>\n",
       "      <th>175</th>\n",
       "      <td>target</td>\n",
       "      <td>52354</td>\n",
       "      <td>74.791429</td>\n",
       "    </tr>\n",
       "    <tr>\n",
       "      <th>146</th>\n",
       "      <td>D_114</td>\n",
       "      <td>25380</td>\n",
       "      <td>36.257143</td>\n",
       "    </tr>\n",
       "    <tr>\n",
       "      <th>...</th>\n",
       "      <td>...</td>\n",
       "      <td>...</td>\n",
       "      <td>...</td>\n",
       "    </tr>\n",
       "    <tr>\n",
       "      <th>169</th>\n",
       "      <td>D_140</td>\n",
       "      <td>0</td>\n",
       "      <td>0.000000</td>\n",
       "    </tr>\n",
       "    <tr>\n",
       "      <th>171</th>\n",
       "      <td>D_142</td>\n",
       "      <td>0</td>\n",
       "      <td>0.000000</td>\n",
       "    </tr>\n",
       "    <tr>\n",
       "      <th>172</th>\n",
       "      <td>D_143</td>\n",
       "      <td>0</td>\n",
       "      <td>0.000000</td>\n",
       "    </tr>\n",
       "    <tr>\n",
       "      <th>173</th>\n",
       "      <td>D_144</td>\n",
       "      <td>0</td>\n",
       "      <td>0.000000</td>\n",
       "    </tr>\n",
       "    <tr>\n",
       "      <th>174</th>\n",
       "      <td>D_145</td>\n",
       "      <td>0</td>\n",
       "      <td>0.000000</td>\n",
       "    </tr>\n",
       "  </tbody>\n",
       "</table>\n",
       "<p>176 rows × 3 columns</p>\n",
       "</div>"
      ],
      "text/plain": [
       "    column_name  zero_count  percent_zeros\n",
       "148       D_116       67703      96.718571\n",
       "152       D_120       59542      85.060000\n",
       "102        B_30       59400      84.857143\n",
       "175      target       52354      74.791429\n",
       "146       D_114       25380      36.257143\n",
       "..          ...         ...            ...\n",
       "169       D_140           0       0.000000\n",
       "171       D_142           0       0.000000\n",
       "172       D_143           0       0.000000\n",
       "173       D_144           0       0.000000\n",
       "174       D_145           0       0.000000\n",
       "\n",
       "[176 rows x 3 columns]"
      ]
     },
     "execution_count": 9,
     "metadata": {},
     "output_type": "execute_result"
    }
   ],
   "source": [
    "zero_value_df = pd.DataFrame({\n",
    "    'column_name': train_df_complete.columns,\n",
    "    'zero_count': (train_df_complete == 0).sum().values\n",
    "})\n",
    "\n",
    "# Add percentage of zero values\n",
    "zero_value_df['percent_zeros'] = (zero_value_df['zero_count'] * 100) / len(train_df_complete)\n",
    "\n",
    "# Sort by highest percentage of zeros\n",
    "zero_value_df = zero_value_df.sort_values('percent_zeros', ascending=False)\n",
    "zero_value_df.to_csv(\"zero_percentage_df.csv\", index=False)\n",
    "zero_value_df"
   ]
  },
  {
   "cell_type": "markdown",
   "id": "c6b23bd7-d3e2-4c84-a062-7c839879e493",
   "metadata": {},
   "source": [
    "#### Removing columns which have more than 90% zero values since no variance would be present in those columns ####"
   ]
  },
  {
   "cell_type": "code",
   "execution_count": 10,
   "id": "2ca49f33-ade7-49b0-bec2-7c33bd63ff41",
   "metadata": {},
   "outputs": [
    {
     "name": "stdout",
     "output_type": "stream",
     "text": [
      "count of zero value columns to be dropped:  1\n",
      "shape of train dataset after droping zero valued columns:  (70000, 175)\n"
     ]
    }
   ],
   "source": [
    "zero_columns = zero_value_df[zero_value_df[\"percent_zeros\"] > 90][\"column_name\"].to_list()\n",
    "print(\"count of zero value columns to be dropped: \", len(zero_columns))\n",
    "train_df_complete = train_df_complete.drop(zero_columns, axis=1)\n",
    "print(\"shape of train dataset after droping zero valued columns: \", train_df_complete.shape)"
   ]
  },
  {
   "cell_type": "markdown",
   "id": "6562c8ff-a59b-4848-8a6b-2c55bee2e933",
   "metadata": {},
   "source": [
    "#### Total of 19 columns dropped from the dataset due to null and zero value percentage ####"
   ]
  },
  {
   "cell_type": "markdown",
   "id": "8deb2894-4509-42ad-9de4-23ebd6ce0e71",
   "metadata": {},
   "source": [
    "#### Distribution of target variable ####"
   ]
  },
  {
   "cell_type": "code",
   "execution_count": 11,
   "id": "f69a101f-8c6d-4459-8e6f-69b7ceb6e704",
   "metadata": {
    "scrolled": true
   },
   "outputs": [
    {
     "data": {
      "image/png": "[encoded data removed]",
      "text/plain": [
       "<Figure size 600x400 with 1 Axes>"
      ]
     },
     "metadata": {},
     "output_type": "display_data"
    }
   ],
   "source": [
    "import matplotlib.pyplot as plt\n",
    "import seaborn as sns\n",
    "\n",
    "# Set seaborn style\n",
    "sns.set(style=\"whitegrid\")\n",
    "\n",
    "# Calculate percentages\n",
    "target_counts = train_df_complete['target'].value_counts(normalize=True) * 100\n",
    "\n",
    "# Plot\n",
    "plt.figure(figsize=(6, 4))\n",
    "target_counts.plot(kind='bar', color=['skyblue', 'salmon'])\n",
    "\n",
    "# Add labels and title\n",
    "plt.xlabel('Target Class')\n",
    "plt.ylabel('Percentage (%)')\n",
    "plt.title('Percentage Distribution of Target Variable')\n",
    "plt.xticks(rotation=0)\n",
    "\n",
    "# Add percentage labels on bars\n",
    "for i, value in enumerate(target_counts):\n",
    "    plt.text(i, value + 1, f'{value:.2f}%', ha='center', fontsize=10)\n",
    "\n",
    "plt.tight_layout()\n",
    "plt.show()\n"
   ]
  },
  {
   "cell_type": "markdown",
   "id": "90bd2ca4-dc22-4663-8f76-3aa8fb90bde8",
   "metadata": {},
   "source": [
    "#### From the above distribution we observe its a class imbalance problem statement, since target = 1 records are way lesser compared to target = 0 cases ####"
   ]
  },
  {
   "cell_type": "markdown",
   "id": "78eed8b3-c196-43a6-b03a-cc756b53b704",
   "metadata": {},
   "source": [
    "### Data pre-processing ####"
   ]
  },
  {
   "cell_type": "markdown",
   "id": "3b8306da-80a8-44c1-a868-b250f57a5fe6",
   "metadata": {},
   "source": [
    "#### For all the numerical variables we construct a box plot to observe the skewness and outliers ####"
   ]
  },
  {
   "cell_type": "code",
   "execution_count": 12,
   "id": "40bd5779-8877-4c6d-b3c9-a9fd49305745",
   "metadata": {},
   "outputs": [
    {
     "name": "stdout",
     "output_type": "stream",
     "text": [
      "Box plots saved to 'box_plots_numerical_features.pdf'\n"
     ]
    }
   ],
   "source": [
    "import pandas as pd\n",
    "import matplotlib.pyplot as plt\n",
    "from matplotlib.backends.backend_pdf import PdfPages\n",
    "\n",
    "# Filter numerical columns\n",
    "numerical_cols = train_df_complete.select_dtypes(include='number').columns\n",
    "\n",
    "# Create PDF to save plots\n",
    "with PdfPages('box_plots_numerical_features.pdf') as pdf:\n",
    "    for col in numerical_cols:\n",
    "        if col != 'target':\n",
    "            \n",
    "            plt.figure(figsize=(8, 4))\n",
    "            plt.boxplot(train_df_complete[col].dropna(), vert=False)\n",
    "            plt.title(f'Box Plot of {col}')\n",
    "            plt.xlabel(col)\n",
    "            plt.tight_layout()\n",
    "            # Save each plot to the PDF\n",
    "            pdf.savefig()\n",
    "            plt.close()\n",
    "\n",
    "print(\"Box plots saved to 'box_plots_numerical_features.pdf'\")\n"
   ]
  },
  {
   "cell_type": "markdown",
   "id": "dbe2ccd6-4207-4a12-9ec6-21d8045ae795",
   "metadata": {},
   "source": [
    "#### Since there are more then 180 numerical columns we have saved the box plot distribution named: box_plots_numerical_features.pdf ####"
   ]
  },
  {
   "cell_type": "markdown",
   "id": "31719b75-c99b-4d8e-8c70-bec6dbcf78e5",
   "metadata": {},
   "source": [
    "**As we observe one of the variables named \"P_2\" from the above pdf file generated, the plot has outliers hence we need to remove the outliers we use capping in this scenario**"
   ]
  },
  {
   "cell_type": "markdown",
   "id": "72d9bbbd-e1aa-45f3-ad04-7c8448a0192c",
   "metadata": {},
   "source": [
    "#### First calculate IQR (inter-quartile range) ####"
   ]
  },
  {
   "cell_type": "code",
   "execution_count": 13,
   "id": "6e8a27bd-ab8e-42ea-be01-8f95ed1be629",
   "metadata": {},
   "outputs": [],
   "source": [
    "percentile25 = train_df_complete['P_2'].quantile(0.25)\n",
    "percentile75 = train_df_complete['P_2'].quantile(0.75)\n",
    "iqr = percentile75-percentile25\n",
    "upper_limit = percentile75 + 1.5 * iqr\n",
    "lower_limit = percentile25 - 1.5 * iqr\n"
   ]
  },
  {
   "cell_type": "markdown",
   "id": "57ba1bc9-859a-4702-8f8a-5a12d5744cb1",
   "metadata": {},
   "source": [
    "#### Perform capping ####"
   ]
  },
  {
   "cell_type": "code",
   "execution_count": 14,
   "id": "687d457f-2d6f-4bf2-a538-13f52b2e5bf1",
   "metadata": {},
   "outputs": [],
   "source": [
    "train_df_complete['P_2'] = np.where(train_df_complete['P_2'] >= upper_limit,\n",
    "        upper_limit,\n",
    "        np.where(train_df_complete['P_2'] <= lower_limit,\n",
    "        lower_limit,\n",
    "        train_df_complete['P_2']))"
   ]
  },
  {
   "cell_type": "markdown",
   "id": "7a9352d7-0189-4c22-894f-c59bf795f43c",
   "metadata": {},
   "source": [
    "#### After removing outlier ####"
   ]
  },
  {
   "cell_type": "code",
   "execution_count": 15,
   "id": "862d0a3d-d7ad-47d7-8f82-4051145890c9",
   "metadata": {
    "scrolled": true
   },
   "outputs": [
    {
     "data": {
      "text/plain": [
       "<Axes: ylabel='P_2'>"
      ]
     },
     "execution_count": 15,
     "metadata": {},
     "output_type": "execute_result"
    },
    {
     "data": {
      "image/png": "[encoded data removed]",
      "text/plain": [
       "<Figure size 640x480 with 1 Axes>"
      ]
     },
     "metadata": {},
     "output_type": "display_data"
    }
   ],
   "source": [
    "sns.boxplot(train_df_complete['P_2'])"
   ]
  },
  {
   "cell_type": "markdown",
   "id": "7ef47b17-b49a-4743-b9f7-5712a7f41250",
   "metadata": {},
   "source": [
    "#### Removing the outliers , only result in some information loss, since we cap the end values of a column ####"
   ]
  },
  {
   "cell_type": "markdown",
   "id": "6645db4f-5adc-408e-bb6b-9cd45c7fee0e",
   "metadata": {},
   "source": [
    "#### Categorical variables distribution vs target ####"
   ]
  },
  {
   "cell_type": "code",
   "execution_count": 16,
   "id": "d26e50ba-7358-4cdb-be85-3a950d4c14f7",
   "metadata": {
    "scrolled": true
   },
   "outputs": [
    {
     "data": {
      "image/png": "[encoded data removed]",
      "text/plain": [
       "<Figure size 600x400 with 1 Axes>"
      ]
     },
     "metadata": {},
     "output_type": "display_data"
    },
    {
     "data": {
      "image/png": "[encoded data removed]",
      "text/plain": [
       "<Figure size 600x400 with 1 Axes>"
      ]
     },
     "metadata": {},
     "output_type": "display_data"
    }
   ],
   "source": [
    "for col in categorical_columns:\n",
    "    if col != \"customer_ID\":\n",
    "        \n",
    "        plt.figure(figsize=(6, 4))\n",
    "        sns.barplot(data=train_df_complete, x=col, y='target', estimator='mean', order=train_df_complete[col].value_counts().index)\n",
    "        plt.title(f'Mean Target by {col}')\n",
    "        plt.xticks(rotation=45)\n",
    "        plt.tight_layout()\n",
    "        plt.show()\n"
   ]
  },
  {
   "cell_type": "markdown",
   "id": "ea0a8d2d-07c9-45c7-bc3e-6ca0b7d25916",
   "metadata": {},
   "source": [
    "## Feature selection technique (Information Value) ##"
   ]
  },
  {
   "cell_type": "markdown",
   "id": "a987d8de-e01a-451b-8732-b3e3b58a9438",
   "metadata": {},
   "source": [
    "#### Information Value (IV) is a common metric in credit risk modeling to measure the predictive power of a variable in distinguishing between good and bad outcomes (e.g., defaulters vs non-defaulters) ####"
   ]
  },
  {
   "cell_type": "markdown",
   "id": "887de94b-4a71-4f78-93b3-50e9213d3fc2",
   "metadata": {},
   "source": [
    "\n",
    "**IV Interpretation Guide**\n",
    "\n",
    "**IV Value\tPredictive Strength**\n",
    "\n",
    "**< 0.02\tNot useful**\n",
    "\n",
    "**0.02–0.1\tWeak**\n",
    "\n",
    "**0.1–0.3\tMedium**\n",
    "\n",
    "**0.3–0.5\tStrong**\n",
    "\n",
    "**> 0.5\tSuspicious (check for leakage)**"
   ]
  },
  {
   "cell_type": "code",
   "execution_count": 17,
   "id": "65b4385a-5d44-4612-bc82-9447d514ac02",
   "metadata": {},
   "outputs": [],
   "source": [
    "def calculate_iv(df, feature, target, bins=10):\n",
    "    \"\"\"\n",
    "    Calculate Information Value (IV) for a single feature.\n",
    "    \n",
    "    Parameters:\n",
    "    - df: pandas DataFrame\n",
    "    - feature: the column name of the feature\n",
    "    - target: the binary target variable (0 = good, 1 = bad)\n",
    "    - bins: number of bins for numerical variables\n",
    "    \n",
    "    Returns:\n",
    "    - iv (float): Information Value of the feature\n",
    "    \"\"\"\n",
    "    temp_df = df[[feature, target]].copy()\n",
    "\n",
    "    # Bin if numerical\n",
    "    if pd.api.types.is_numeric_dtype(temp_df[feature]):\n",
    "        try:\n",
    "            temp_df['bin'] = pd.qcut(temp_df[feature], q=bins, duplicates='drop')\n",
    "        except ValueError:  # Handle features with fewer unique values than bins\n",
    "            temp_df['bin'] = temp_df[feature]\n",
    "    else:\n",
    "        temp_df['bin'] = temp_df[feature]\n",
    "\n",
    "    # Grouping and WOE/IV calculation\n",
    "    grouped = temp_df.groupby('bin')[target].agg(['count', 'sum'])\n",
    "    grouped.columns = ['total', 'bads']\n",
    "    grouped['goods'] = grouped['total'] - grouped['bads']\n",
    "\n",
    "    # Percentages\n",
    "    grouped['% of Bads'] = grouped['bads'] / grouped['bads'].sum()\n",
    "    grouped['% of Goods'] = grouped['goods'] / grouped['goods'].sum()\n",
    "\n",
    "    # Add small value to avoid division by zero\n",
    "    grouped['WOE'] = np.log((grouped['% of Goods'] + 1e-6) / (grouped['% of Bads'] + 1e-6))\n",
    "    grouped['IV'] = (grouped['% of Goods'] - grouped['% of Bads']) * grouped['WOE']\n",
    "\n",
    "    iv = grouped['IV'].sum()\n",
    "\n",
    "    return iv\n"
   ]
  },
  {
   "cell_type": "code",
   "execution_count": 18,
   "id": "e6bfbe82-eea4-4ddf-9e21-30d5daad772a",
   "metadata": {},
   "outputs": [],
   "source": [
    "def calculate_iv_all_features(df, target_col):\n",
    "    \"\"\"\n",
    "    Calculate IV for all features in a DataFrame (excluding the target).\n",
    "    \n",
    "    Parameters:\n",
    "    - df: pandas DataFrame\n",
    "    - target_col: the name of the target column (binary: 0 = good, 1 = bad)\n",
    "    - bins: number of bins for numeric features\n",
    "    \n",
    "    Returns:\n",
    "    - DataFrame: sorted IV values for each feature\n",
    "    \"\"\"\n",
    "    iv_dict = {}\n",
    "    feature_cols = df.columns.drop([target_col, 'customer_ID'])\n",
    "\n",
    "    for col in feature_cols:\n",
    "        try:\n",
    "            iv = calculate_iv(df, col, target_col)\n",
    "            iv_dict[col] = iv\n",
    "        except Exception as e:\n",
    "            print(f\"Skipped {col} due to error: {e}\")\n",
    "            continue\n",
    "\n",
    "    iv_df = pd.DataFrame.from_dict(iv_dict, orient='index', columns=['IV'])\n",
    "    iv_df = iv_df.sort_values(by='IV', ascending=False)\n",
    "    return iv_df\n"
   ]
  },
  {
   "cell_type": "code",
   "execution_count": 19,
   "id": "0001633c-8f49-45a6-ac61-b4c50ee7d4eb",
   "metadata": {
    "scrolled": true
   },
   "outputs": [
    {
     "name": "stderr",
     "output_type": "stream",
     "text": [
      "/var/folders/2n/0w23czwn2mjd3pg0c15vjyz80000gn/T/ipykernel_33054/2044337124.py:26: FutureWarning: The default of observed=False is deprecated and will be changed to True in a future version of pandas. Pass observed=False to retain current behavior or observed=True to adopt the future default and silence this warning.\n",
      "  grouped = temp_df.groupby('bin')[target].agg(['count', 'sum'])\n",
      "/var/folders/2n/0w23czwn2mjd3pg0c15vjyz80000gn/T/ipykernel_33054/2044337124.py:26: FutureWarning: The default of observed=False is deprecated and will be changed to True in a future version of pandas. Pass observed=False to retain current behavior or observed=True to adopt the future default and silence this warning.\n",
      "  grouped = temp_df.groupby('bin')[target].agg(['count', 'sum'])\n",
      "/var/folders/2n/0w23czwn2mjd3pg0c15vjyz80000gn/T/ipykernel_33054/2044337124.py:26: FutureWarning: The default of observed=False is deprecated and will be changed to True in a future version of pandas. Pass observed=False to retain current behavior or observed=True to adopt the future default and silence this warning.\n",
      "  grouped = temp_df.groupby('bin')[target].agg(['count', 'sum'])\n",
      "/var/folders/2n/0w23czwn2mjd3pg0c15vjyz80000gn/T/ipykernel_33054/2044337124.py:26: FutureWarning: The default of observed=False is deprecated and will be changed to True in a future version of pandas. Pass observed=False to retain current behavior or observed=True to adopt the future default and silence this warning.\n",
      "  grouped = temp_df.groupby('bin')[target].agg(['count', 'sum'])\n",
      "/var/folders/2n/0w23czwn2mjd3pg0c15vjyz80000gn/T/ipykernel_33054/2044337124.py:26: FutureWarning: The default of observed=False is deprecated and will be changed to True in a future version of pandas. Pass observed=False to retain current behavior or observed=True to adopt the future default and silence this warning.\n",
      "  grouped = temp_df.groupby('bin')[target].agg(['count', 'sum'])\n",
      "/var/folders/2n/0w23czwn2mjd3pg0c15vjyz80000gn/T/ipykernel_33054/2044337124.py:26: FutureWarning: The default of observed=False is deprecated and will be changed to True in a future version of pandas. Pass observed=False to retain current behavior or observed=True to adopt the future default and silence this warning.\n",
      "  grouped = temp_df.groupby('bin')[target].agg(['count', 'sum'])\n",
      "/var/folders/2n/0w23czwn2mjd3pg0c15vjyz80000gn/T/ipykernel_33054/2044337124.py:26: FutureWarning: The default of observed=False is deprecated and will be changed to True in a future version of pandas. Pass observed=False to retain current behavior or observed=True to adopt the future default and silence this warning.\n",
      "  grouped = temp_df.groupby('bin')[target].agg(['count', 'sum'])\n",
      "/var/folders/2n/0w23czwn2mjd3pg0c15vjyz80000gn/T/ipykernel_33054/2044337124.py:26: FutureWarning: The default of observed=False is deprecated and will be changed to True in a future version of pandas. Pass observed=False to retain current behavior or observed=True to adopt the future default and silence this warning.\n",
      "  grouped = temp_df.groupby('bin')[target].agg(['count', 'sum'])\n",
      "/var/folders/2n/0w23czwn2mjd3pg0c15vjyz80000gn/T/ipykernel_33054/2044337124.py:26: FutureWarning: The default of observed=False is deprecated and will be changed to True in a future version of pandas. Pass observed=False to retain current behavior or observed=True to adopt the future default and silence this warning.\n",
      "  grouped = temp_df.groupby('bin')[target].agg(['count', 'sum'])\n",
      "/var/folders/2n/0w23czwn2mjd3pg0c15vjyz80000gn/T/ipykernel_33054/2044337124.py:26: FutureWarning: The default of observed=False is deprecated and will be changed to True in a future version of pandas. Pass observed=False to retain current behavior or observed=True to adopt the future default and silence this warning.\n",
      "  grouped = temp_df.groupby('bin')[target].agg(['count', 'sum'])\n",
      "/var/folders/2n/0w23czwn2mjd3pg0c15vjyz80000gn/T/ipykernel_33054/2044337124.py:26: FutureWarning: The default of observed=False is deprecated and will be changed to True in a future version of pandas. Pass observed=False to retain current behavior or observed=True to adopt the future default and silence this warning.\n",
      "  grouped = temp_df.groupby('bin')[target].agg(['count', 'sum'])\n",
      "/var/folders/2n/0w23czwn2mjd3pg0c15vjyz80000gn/T/ipykernel_33054/2044337124.py:26: FutureWarning: The default of observed=False is deprecated and will be changed to True in a future version of pandas. Pass observed=False to retain current behavior or observed=True to adopt the future default and silence this warning.\n",
      "  grouped = temp_df.groupby('bin')[target].agg(['count', 'sum'])\n",
      "/var/folders/2n/0w23czwn2mjd3pg0c15vjyz80000gn/T/ipykernel_33054/2044337124.py:26: FutureWarning: The default of observed=False is deprecated and will be changed to True in a future version of pandas. Pass observed=False to retain current behavior or observed=True to adopt the future default and silence this warning.\n",
      "  grouped = temp_df.groupby('bin')[target].agg(['count', 'sum'])\n",
      "/var/folders/2n/0w23czwn2mjd3pg0c15vjyz80000gn/T/ipykernel_33054/2044337124.py:26: FutureWarning: The default of observed=False is deprecated and will be changed to True in a future version of pandas. Pass observed=False to retain current behavior or observed=True to adopt the future default and silence this warning.\n",
      "  grouped = temp_df.groupby('bin')[target].agg(['count', 'sum'])\n",
      "/var/folders/2n/0w23czwn2mjd3pg0c15vjyz80000gn/T/ipykernel_33054/2044337124.py:26: FutureWarning: The default of observed=False is deprecated and will be changed to True in a future version of pandas. Pass observed=False to retain current behavior or observed=True to adopt the future default and silence this warning.\n",
      "  grouped = temp_df.groupby('bin')[target].agg(['count', 'sum'])\n",
      "/var/folders/2n/0w23czwn2mjd3pg0c15vjyz80000gn/T/ipykernel_33054/2044337124.py:26: FutureWarning: The default of observed=False is deprecated and will be changed to True in a future version of pandas. Pass observed=False to retain current behavior or observed=True to adopt the future default and silence this warning.\n",
      "  grouped = temp_df.groupby('bin')[target].agg(['count', 'sum'])\n",
      "/var/folders/2n/0w23czwn2mjd3pg0c15vjyz80000gn/T/ipykernel_33054/2044337124.py:26: FutureWarning: The default of observed=False is deprecated and will be changed to True in a future version of pandas. Pass observed=False to retain current behavior or observed=True to adopt the future default and silence this warning.\n",
      "  grouped = temp_df.groupby('bin')[target].agg(['count', 'sum'])\n",
      "/var/folders/2n/0w23czwn2mjd3pg0c15vjyz80000gn/T/ipykernel_33054/2044337124.py:26: FutureWarning: The default of observed=False is deprecated and will be changed to True in a future version of pandas. Pass observed=False to retain current behavior or observed=True to adopt the future default and silence this warning.\n",
      "  grouped = temp_df.groupby('bin')[target].agg(['count', 'sum'])\n",
      "/var/folders/2n/0w23czwn2mjd3pg0c15vjyz80000gn/T/ipykernel_33054/2044337124.py:26: FutureWarning: The default of observed=False is deprecated and will be changed to True in a future version of pandas. Pass observed=False to retain current behavior or observed=True to adopt the future default and silence this warning.\n",
      "  grouped = temp_df.groupby('bin')[target].agg(['count', 'sum'])\n",
      "/var/folders/2n/0w23czwn2mjd3pg0c15vjyz80000gn/T/ipykernel_33054/2044337124.py:26: FutureWarning: The default of observed=False is deprecated and will be changed to True in a future version of pandas. Pass observed=False to retain current behavior or observed=True to adopt the future default and silence this warning.\n",
      "  grouped = temp_df.groupby('bin')[target].agg(['count', 'sum'])\n",
      "/var/folders/2n/0w23czwn2mjd3pg0c15vjyz80000gn/T/ipykernel_33054/2044337124.py:26: FutureWarning: The default of observed=False is deprecated and will be changed to True in a future version of pandas. Pass observed=False to retain current behavior or observed=True to adopt the future default and silence this warning.\n",
      "  grouped = temp_df.groupby('bin')[target].agg(['count', 'sum'])\n",
      "/var/folders/2n/0w23czwn2mjd3pg0c15vjyz80000gn/T/ipykernel_33054/2044337124.py:26: FutureWarning: The default of observed=False is deprecated and will be changed to True in a future version of pandas. Pass observed=False to retain current behavior or observed=True to adopt the future default and silence this warning.\n",
      "  grouped = temp_df.groupby('bin')[target].agg(['count', 'sum'])\n",
      "/var/folders/2n/0w23czwn2mjd3pg0c15vjyz80000gn/T/ipykernel_33054/2044337124.py:26: FutureWarning: The default of observed=False is deprecated and will be changed to True in a future version of pandas. Pass observed=False to retain current behavior or observed=True to adopt the future default and silence this warning.\n",
      "  grouped = temp_df.groupby('bin')[target].agg(['count', 'sum'])\n",
      "/var/folders/2n/0w23czwn2mjd3pg0c15vjyz80000gn/T/ipykernel_33054/2044337124.py:26: FutureWarning: The default of observed=False is deprecated and will be changed to True in a future version of pandas. Pass observed=False to retain current behavior or observed=True to adopt the future default and silence this warning.\n",
      "  grouped = temp_df.groupby('bin')[target].agg(['count', 'sum'])\n",
      "/var/folders/2n/0w23czwn2mjd3pg0c15vjyz80000gn/T/ipykernel_33054/2044337124.py:26: FutureWarning: The default of observed=False is deprecated and will be changed to True in a future version of pandas. Pass observed=False to retain current behavior or observed=True to adopt the future default and silence this warning.\n",
      "  grouped = temp_df.groupby('bin')[target].agg(['count', 'sum'])\n",
      "/var/folders/2n/0w23czwn2mjd3pg0c15vjyz80000gn/T/ipykernel_33054/2044337124.py:26: FutureWarning: The default of observed=False is deprecated and will be changed to True in a future version of pandas. Pass observed=False to retain current behavior or observed=True to adopt the future default and silence this warning.\n",
      "  grouped = temp_df.groupby('bin')[target].agg(['count', 'sum'])\n",
      "/var/folders/2n/0w23czwn2mjd3pg0c15vjyz80000gn/T/ipykernel_33054/2044337124.py:26: FutureWarning: The default of observed=False is deprecated and will be changed to True in a future version of pandas. Pass observed=False to retain current behavior or observed=True to adopt the future default and silence this warning.\n",
      "  grouped = temp_df.groupby('bin')[target].agg(['count', 'sum'])\n",
      "/var/folders/2n/0w23czwn2mjd3pg0c15vjyz80000gn/T/ipykernel_33054/2044337124.py:26: FutureWarning: The default of observed=False is deprecated and will be changed to True in a future version of pandas. Pass observed=False to retain current behavior or observed=True to adopt the future default and silence this warning.\n",
      "  grouped = temp_df.groupby('bin')[target].agg(['count', 'sum'])\n",
      "/var/folders/2n/0w23czwn2mjd3pg0c15vjyz80000gn/T/ipykernel_33054/2044337124.py:26: FutureWarning: The default of observed=False is deprecated and will be changed to True in a future version of pandas. Pass observed=False to retain current behavior or observed=True to adopt the future default and silence this warning.\n",
      "  grouped = temp_df.groupby('bin')[target].agg(['count', 'sum'])\n",
      "/var/folders/2n/0w23czwn2mjd3pg0c15vjyz80000gn/T/ipykernel_33054/2044337124.py:26: FutureWarning: The default of observed=False is deprecated and will be changed to True in a future version of pandas. Pass observed=False to retain current behavior or observed=True to adopt the future default and silence this warning.\n",
      "  grouped = temp_df.groupby('bin')[target].agg(['count', 'sum'])\n",
      "/var/folders/2n/0w23czwn2mjd3pg0c15vjyz80000gn/T/ipykernel_33054/2044337124.py:26: FutureWarning: The default of observed=False is deprecated and will be changed to True in a future version of pandas. Pass observed=False to retain current behavior or observed=True to adopt the future default and silence this warning.\n",
      "  grouped = temp_df.groupby('bin')[target].agg(['count', 'sum'])\n",
      "/var/folders/2n/0w23czwn2mjd3pg0c15vjyz80000gn/T/ipykernel_33054/2044337124.py:26: FutureWarning: The default of observed=False is deprecated and will be changed to True in a future version of pandas. Pass observed=False to retain current behavior or observed=True to adopt the future default and silence this warning.\n",
      "  grouped = temp_df.groupby('bin')[target].agg(['count', 'sum'])\n",
      "/var/folders/2n/0w23czwn2mjd3pg0c15vjyz80000gn/T/ipykernel_33054/2044337124.py:26: FutureWarning: The default of observed=False is deprecated and will be changed to True in a future version of pandas. Pass observed=False to retain current behavior or observed=True to adopt the future default and silence this warning.\n",
      "  grouped = temp_df.groupby('bin')[target].agg(['count', 'sum'])\n",
      "/var/folders/2n/0w23czwn2mjd3pg0c15vjyz80000gn/T/ipykernel_33054/2044337124.py:26: FutureWarning: The default of observed=False is deprecated and will be changed to True in a future version of pandas. Pass observed=False to retain current behavior or observed=True to adopt the future default and silence this warning.\n",
      "  grouped = temp_df.groupby('bin')[target].agg(['count', 'sum'])\n",
      "/var/folders/2n/0w23czwn2mjd3pg0c15vjyz80000gn/T/ipykernel_33054/2044337124.py:26: FutureWarning: The default of observed=False is deprecated and will be changed to True in a future version of pandas. Pass observed=False to retain current behavior or observed=True to adopt the future default and silence this warning.\n",
      "  grouped = temp_df.groupby('bin')[target].agg(['count', 'sum'])\n",
      "/var/folders/2n/0w23czwn2mjd3pg0c15vjyz80000gn/T/ipykernel_33054/2044337124.py:26: FutureWarning: The default of observed=False is deprecated and will be changed to True in a future version of pandas. Pass observed=False to retain current behavior or observed=True to adopt the future default and silence this warning.\n",
      "  grouped = temp_df.groupby('bin')[target].agg(['count', 'sum'])\n",
      "/var/folders/2n/0w23czwn2mjd3pg0c15vjyz80000gn/T/ipykernel_33054/2044337124.py:26: FutureWarning: The default of observed=False is deprecated and will be changed to True in a future version of pandas. Pass observed=False to retain current behavior or observed=True to adopt the future default and silence this warning.\n",
      "  grouped = temp_df.groupby('bin')[target].agg(['count', 'sum'])\n",
      "/var/folders/2n/0w23czwn2mjd3pg0c15vjyz80000gn/T/ipykernel_33054/2044337124.py:26: FutureWarning: The default of observed=False is deprecated and will be changed to True in a future version of pandas. Pass observed=False to retain current behavior or observed=True to adopt the future default and silence this warning.\n",
      "  grouped = temp_df.groupby('bin')[target].agg(['count', 'sum'])\n",
      "/var/folders/2n/0w23czwn2mjd3pg0c15vjyz80000gn/T/ipykernel_33054/2044337124.py:26: FutureWarning: The default of observed=False is deprecated and will be changed to True in a future version of pandas. Pass observed=False to retain current behavior or observed=True to adopt the future default and silence this warning.\n",
      "  grouped = temp_df.groupby('bin')[target].agg(['count', 'sum'])\n",
      "/var/folders/2n/0w23czwn2mjd3pg0c15vjyz80000gn/T/ipykernel_33054/2044337124.py:26: FutureWarning: The default of observed=False is deprecated and will be changed to True in a future version of pandas. Pass observed=False to retain current behavior or observed=True to adopt the future default and silence this warning.\n",
      "  grouped = temp_df.groupby('bin')[target].agg(['count', 'sum'])\n",
      "/var/folders/2n/0w23czwn2mjd3pg0c15vjyz80000gn/T/ipykernel_33054/2044337124.py:26: FutureWarning: The default of observed=False is deprecated and will be changed to True in a future version of pandas. Pass observed=False to retain current behavior or observed=True to adopt the future default and silence this warning.\n",
      "  grouped = temp_df.groupby('bin')[target].agg(['count', 'sum'])\n",
      "/var/folders/2n/0w23czwn2mjd3pg0c15vjyz80000gn/T/ipykernel_33054/2044337124.py:26: FutureWarning: The default of observed=False is deprecated and will be changed to True in a future version of pandas. Pass observed=False to retain current behavior or observed=True to adopt the future default and silence this warning.\n",
      "  grouped = temp_df.groupby('bin')[target].agg(['count', 'sum'])\n",
      "/var/folders/2n/0w23czwn2mjd3pg0c15vjyz80000gn/T/ipykernel_33054/2044337124.py:26: FutureWarning: The default of observed=False is deprecated and will be changed to True in a future version of pandas. Pass observed=False to retain current behavior or observed=True to adopt the future default and silence this warning.\n",
      "  grouped = temp_df.groupby('bin')[target].agg(['count', 'sum'])\n",
      "/var/folders/2n/0w23czwn2mjd3pg0c15vjyz80000gn/T/ipykernel_33054/2044337124.py:26: FutureWarning: The default of observed=False is deprecated and will be changed to True in a future version of pandas. Pass observed=False to retain current behavior or observed=True to adopt the future default and silence this warning.\n",
      "  grouped = temp_df.groupby('bin')[target].agg(['count', 'sum'])\n",
      "/var/folders/2n/0w23czwn2mjd3pg0c15vjyz80000gn/T/ipykernel_33054/2044337124.py:26: FutureWarning: The default of observed=False is deprecated and will be changed to True in a future version of pandas. Pass observed=False to retain current behavior or observed=True to adopt the future default and silence this warning.\n",
      "  grouped = temp_df.groupby('bin')[target].agg(['count', 'sum'])\n",
      "/var/folders/2n/0w23czwn2mjd3pg0c15vjyz80000gn/T/ipykernel_33054/2044337124.py:26: FutureWarning: The default of observed=False is deprecated and will be changed to True in a future version of pandas. Pass observed=False to retain current behavior or observed=True to adopt the future default and silence this warning.\n",
      "  grouped = temp_df.groupby('bin')[target].agg(['count', 'sum'])\n",
      "/var/folders/2n/0w23czwn2mjd3pg0c15vjyz80000gn/T/ipykernel_33054/2044337124.py:26: FutureWarning: The default of observed=False is deprecated and will be changed to True in a future version of pandas. Pass observed=False to retain current behavior or observed=True to adopt the future default and silence this warning.\n",
      "  grouped = temp_df.groupby('bin')[target].agg(['count', 'sum'])\n",
      "/var/folders/2n/0w23czwn2mjd3pg0c15vjyz80000gn/T/ipykernel_33054/2044337124.py:26: FutureWarning: The default of observed=False is deprecated and will be changed to True in a future version of pandas. Pass observed=False to retain current behavior or observed=True to adopt the future default and silence this warning.\n",
      "  grouped = temp_df.groupby('bin')[target].agg(['count', 'sum'])\n",
      "/var/folders/2n/0w23czwn2mjd3pg0c15vjyz80000gn/T/ipykernel_33054/2044337124.py:26: FutureWarning: The default of observed=False is deprecated and will be changed to True in a future version of pandas. Pass observed=False to retain current behavior or observed=True to adopt the future default and silence this warning.\n",
      "  grouped = temp_df.groupby('bin')[target].agg(['count', 'sum'])\n",
      "/var/folders/2n/0w23czwn2mjd3pg0c15vjyz80000gn/T/ipykernel_33054/2044337124.py:26: FutureWarning: The default of observed=False is deprecated and will be changed to True in a future version of pandas. Pass observed=False to retain current behavior or observed=True to adopt the future default and silence this warning.\n",
      "  grouped = temp_df.groupby('bin')[target].agg(['count', 'sum'])\n",
      "/var/folders/2n/0w23czwn2mjd3pg0c15vjyz80000gn/T/ipykernel_33054/2044337124.py:26: FutureWarning: The default of observed=False is deprecated and will be changed to True in a future version of pandas. Pass observed=False to retain current behavior or observed=True to adopt the future default and silence this warning.\n",
      "  grouped = temp_df.groupby('bin')[target].agg(['count', 'sum'])\n",
      "/var/folders/2n/0w23czwn2mjd3pg0c15vjyz80000gn/T/ipykernel_33054/2044337124.py:26: FutureWarning: The default of observed=False is deprecated and will be changed to True in a future version of pandas. Pass observed=False to retain current behavior or observed=True to adopt the future default and silence this warning.\n",
      "  grouped = temp_df.groupby('bin')[target].agg(['count', 'sum'])\n",
      "/var/folders/2n/0w23czwn2mjd3pg0c15vjyz80000gn/T/ipykernel_33054/2044337124.py:26: FutureWarning: The default of observed=False is deprecated and will be changed to True in a future version of pandas. Pass observed=False to retain current behavior or observed=True to adopt the future default and silence this warning.\n",
      "  grouped = temp_df.groupby('bin')[target].agg(['count', 'sum'])\n",
      "/var/folders/2n/0w23czwn2mjd3pg0c15vjyz80000gn/T/ipykernel_33054/2044337124.py:26: FutureWarning: The default of observed=False is deprecated and will be changed to True in a future version of pandas. Pass observed=False to retain current behavior or observed=True to adopt the future default and silence this warning.\n",
      "  grouped = temp_df.groupby('bin')[target].agg(['count', 'sum'])\n",
      "/var/folders/2n/0w23czwn2mjd3pg0c15vjyz80000gn/T/ipykernel_33054/2044337124.py:26: FutureWarning: The default of observed=False is deprecated and will be changed to True in a future version of pandas. Pass observed=False to retain current behavior or observed=True to adopt the future default and silence this warning.\n",
      "  grouped = temp_df.groupby('bin')[target].agg(['count', 'sum'])\n",
      "/var/folders/2n/0w23czwn2mjd3pg0c15vjyz80000gn/T/ipykernel_33054/2044337124.py:26: FutureWarning: The default of observed=False is deprecated and will be changed to True in a future version of pandas. Pass observed=False to retain current behavior or observed=True to adopt the future default and silence this warning.\n",
      "  grouped = temp_df.groupby('bin')[target].agg(['count', 'sum'])\n",
      "/var/folders/2n/0w23czwn2mjd3pg0c15vjyz80000gn/T/ipykernel_33054/2044337124.py:26: FutureWarning: The default of observed=False is deprecated and will be changed to True in a future version of pandas. Pass observed=False to retain current behavior or observed=True to adopt the future default and silence this warning.\n",
      "  grouped = temp_df.groupby('bin')[target].agg(['count', 'sum'])\n",
      "/var/folders/2n/0w23czwn2mjd3pg0c15vjyz80000gn/T/ipykernel_33054/2044337124.py:26: FutureWarning: The default of observed=False is deprecated and will be changed to True in a future version of pandas. Pass observed=False to retain current behavior or observed=True to adopt the future default and silence this warning.\n",
      "  grouped = temp_df.groupby('bin')[target].agg(['count', 'sum'])\n",
      "/var/folders/2n/0w23czwn2mjd3pg0c15vjyz80000gn/T/ipykernel_33054/2044337124.py:26: FutureWarning: The default of observed=False is deprecated and will be changed to True in a future version of pandas. Pass observed=False to retain current behavior or observed=True to adopt the future default and silence this warning.\n",
      "  grouped = temp_df.groupby('bin')[target].agg(['count', 'sum'])\n",
      "/var/folders/2n/0w23czwn2mjd3pg0c15vjyz80000gn/T/ipykernel_33054/2044337124.py:26: FutureWarning: The default of observed=False is deprecated and will be changed to True in a future version of pandas. Pass observed=False to retain current behavior or observed=True to adopt the future default and silence this warning.\n",
      "  grouped = temp_df.groupby('bin')[target].agg(['count', 'sum'])\n",
      "/var/folders/2n/0w23czwn2mjd3pg0c15vjyz80000gn/T/ipykernel_33054/2044337124.py:26: FutureWarning: The default of observed=False is deprecated and will be changed to True in a future version of pandas. Pass observed=False to retain current behavior or observed=True to adopt the future default and silence this warning.\n",
      "  grouped = temp_df.groupby('bin')[target].agg(['count', 'sum'])\n",
      "/var/folders/2n/0w23czwn2mjd3pg0c15vjyz80000gn/T/ipykernel_33054/2044337124.py:26: FutureWarning: The default of observed=False is deprecated and will be changed to True in a future version of pandas. Pass observed=False to retain current behavior or observed=True to adopt the future default and silence this warning.\n",
      "  grouped = temp_df.groupby('bin')[target].agg(['count', 'sum'])\n",
      "/var/folders/2n/0w23czwn2mjd3pg0c15vjyz80000gn/T/ipykernel_33054/2044337124.py:26: FutureWarning: The default of observed=False is deprecated and will be changed to True in a future version of pandas. Pass observed=False to retain current behavior or observed=True to adopt the future default and silence this warning.\n",
      "  grouped = temp_df.groupby('bin')[target].agg(['count', 'sum'])\n",
      "/var/folders/2n/0w23czwn2mjd3pg0c15vjyz80000gn/T/ipykernel_33054/2044337124.py:26: FutureWarning: The default of observed=False is deprecated and will be changed to True in a future version of pandas. Pass observed=False to retain current behavior or observed=True to adopt the future default and silence this warning.\n",
      "  grouped = temp_df.groupby('bin')[target].agg(['count', 'sum'])\n",
      "/var/folders/2n/0w23czwn2mjd3pg0c15vjyz80000gn/T/ipykernel_33054/2044337124.py:26: FutureWarning: The default of observed=False is deprecated and will be changed to True in a future version of pandas. Pass observed=False to retain current behavior or observed=True to adopt the future default and silence this warning.\n",
      "  grouped = temp_df.groupby('bin')[target].agg(['count', 'sum'])\n",
      "/var/folders/2n/0w23czwn2mjd3pg0c15vjyz80000gn/T/ipykernel_33054/2044337124.py:26: FutureWarning: The default of observed=False is deprecated and will be changed to True in a future version of pandas. Pass observed=False to retain current behavior or observed=True to adopt the future default and silence this warning.\n",
      "  grouped = temp_df.groupby('bin')[target].agg(['count', 'sum'])\n",
      "/var/folders/2n/0w23czwn2mjd3pg0c15vjyz80000gn/T/ipykernel_33054/2044337124.py:26: FutureWarning: The default of observed=False is deprecated and will be changed to True in a future version of pandas. Pass observed=False to retain current behavior or observed=True to adopt the future default and silence this warning.\n",
      "  grouped = temp_df.groupby('bin')[target].agg(['count', 'sum'])\n",
      "/var/folders/2n/0w23czwn2mjd3pg0c15vjyz80000gn/T/ipykernel_33054/2044337124.py:26: FutureWarning: The default of observed=False is deprecated and will be changed to True in a future version of pandas. Pass observed=False to retain current behavior or observed=True to adopt the future default and silence this warning.\n",
      "  grouped = temp_df.groupby('bin')[target].agg(['count', 'sum'])\n",
      "/var/folders/2n/0w23czwn2mjd3pg0c15vjyz80000gn/T/ipykernel_33054/2044337124.py:26: FutureWarning: The default of observed=False is deprecated and will be changed to True in a future version of pandas. Pass observed=False to retain current behavior or observed=True to adopt the future default and silence this warning.\n",
      "  grouped = temp_df.groupby('bin')[target].agg(['count', 'sum'])\n",
      "/var/folders/2n/0w23czwn2mjd3pg0c15vjyz80000gn/T/ipykernel_33054/2044337124.py:26: FutureWarning: The default of observed=False is deprecated and will be changed to True in a future version of pandas. Pass observed=False to retain current behavior or observed=True to adopt the future default and silence this warning.\n",
      "  grouped = temp_df.groupby('bin')[target].agg(['count', 'sum'])\n",
      "/var/folders/2n/0w23czwn2mjd3pg0c15vjyz80000gn/T/ipykernel_33054/2044337124.py:26: FutureWarning: The default of observed=False is deprecated and will be changed to True in a future version of pandas. Pass observed=False to retain current behavior or observed=True to adopt the future default and silence this warning.\n",
      "  grouped = temp_df.groupby('bin')[target].agg(['count', 'sum'])\n",
      "/var/folders/2n/0w23czwn2mjd3pg0c15vjyz80000gn/T/ipykernel_33054/2044337124.py:26: FutureWarning: The default of observed=False is deprecated and will be changed to True in a future version of pandas. Pass observed=False to retain current behavior or observed=True to adopt the future default and silence this warning.\n",
      "  grouped = temp_df.groupby('bin')[target].agg(['count', 'sum'])\n",
      "/var/folders/2n/0w23czwn2mjd3pg0c15vjyz80000gn/T/ipykernel_33054/2044337124.py:26: FutureWarning: The default of observed=False is deprecated and will be changed to True in a future version of pandas. Pass observed=False to retain current behavior or observed=True to adopt the future default and silence this warning.\n",
      "  grouped = temp_df.groupby('bin')[target].agg(['count', 'sum'])\n",
      "/var/folders/2n/0w23czwn2mjd3pg0c15vjyz80000gn/T/ipykernel_33054/2044337124.py:26: FutureWarning: The default of observed=False is deprecated and will be changed to True in a future version of pandas. Pass observed=False to retain current behavior or observed=True to adopt the future default and silence this warning.\n",
      "  grouped = temp_df.groupby('bin')[target].agg(['count', 'sum'])\n",
      "/var/folders/2n/0w23czwn2mjd3pg0c15vjyz80000gn/T/ipykernel_33054/2044337124.py:26: FutureWarning: The default of observed=False is deprecated and will be changed to True in a future version of pandas. Pass observed=False to retain current behavior or observed=True to adopt the future default and silence this warning.\n",
      "  grouped = temp_df.groupby('bin')[target].agg(['count', 'sum'])\n",
      "/var/folders/2n/0w23czwn2mjd3pg0c15vjyz80000gn/T/ipykernel_33054/2044337124.py:26: FutureWarning: The default of observed=False is deprecated and will be changed to True in a future version of pandas. Pass observed=False to retain current behavior or observed=True to adopt the future default and silence this warning.\n",
      "  grouped = temp_df.groupby('bin')[target].agg(['count', 'sum'])\n",
      "/var/folders/2n/0w23czwn2mjd3pg0c15vjyz80000gn/T/ipykernel_33054/2044337124.py:26: FutureWarning: The default of observed=False is deprecated and will be changed to True in a future version of pandas. Pass observed=False to retain current behavior or observed=True to adopt the future default and silence this warning.\n",
      "  grouped = temp_df.groupby('bin')[target].agg(['count', 'sum'])\n",
      "/var/folders/2n/0w23czwn2mjd3pg0c15vjyz80000gn/T/ipykernel_33054/2044337124.py:26: FutureWarning: The default of observed=False is deprecated and will be changed to True in a future version of pandas. Pass observed=False to retain current behavior or observed=True to adopt the future default and silence this warning.\n",
      "  grouped = temp_df.groupby('bin')[target].agg(['count', 'sum'])\n",
      "/var/folders/2n/0w23czwn2mjd3pg0c15vjyz80000gn/T/ipykernel_33054/2044337124.py:26: FutureWarning: The default of observed=False is deprecated and will be changed to True in a future version of pandas. Pass observed=False to retain current behavior or observed=True to adopt the future default and silence this warning.\n",
      "  grouped = temp_df.groupby('bin')[target].agg(['count', 'sum'])\n",
      "/var/folders/2n/0w23czwn2mjd3pg0c15vjyz80000gn/T/ipykernel_33054/2044337124.py:26: FutureWarning: The default of observed=False is deprecated and will be changed to True in a future version of pandas. Pass observed=False to retain current behavior or observed=True to adopt the future default and silence this warning.\n",
      "  grouped = temp_df.groupby('bin')[target].agg(['count', 'sum'])\n",
      "/var/folders/2n/0w23czwn2mjd3pg0c15vjyz80000gn/T/ipykernel_33054/2044337124.py:26: FutureWarning: The default of observed=False is deprecated and will be changed to True in a future version of pandas. Pass observed=False to retain current behavior or observed=True to adopt the future default and silence this warning.\n",
      "  grouped = temp_df.groupby('bin')[target].agg(['count', 'sum'])\n",
      "/var/folders/2n/0w23czwn2mjd3pg0c15vjyz80000gn/T/ipykernel_33054/2044337124.py:26: FutureWarning: The default of observed=False is deprecated and will be changed to True in a future version of pandas. Pass observed=False to retain current behavior or observed=True to adopt the future default and silence this warning.\n",
      "  grouped = temp_df.groupby('bin')[target].agg(['count', 'sum'])\n",
      "/var/folders/2n/0w23czwn2mjd3pg0c15vjyz80000gn/T/ipykernel_33054/2044337124.py:26: FutureWarning: The default of observed=False is deprecated and will be changed to True in a future version of pandas. Pass observed=False to retain current behavior or observed=True to adopt the future default and silence this warning.\n",
      "  grouped = temp_df.groupby('bin')[target].agg(['count', 'sum'])\n",
      "/var/folders/2n/0w23czwn2mjd3pg0c15vjyz80000gn/T/ipykernel_33054/2044337124.py:26: FutureWarning: The default of observed=False is deprecated and will be changed to True in a future version of pandas. Pass observed=False to retain current behavior or observed=True to adopt the future default and silence this warning.\n",
      "  grouped = temp_df.groupby('bin')[target].agg(['count', 'sum'])\n",
      "/var/folders/2n/0w23czwn2mjd3pg0c15vjyz80000gn/T/ipykernel_33054/2044337124.py:26: FutureWarning: The default of observed=False is deprecated and will be changed to True in a future version of pandas. Pass observed=False to retain current behavior or observed=True to adopt the future default and silence this warning.\n",
      "  grouped = temp_df.groupby('bin')[target].agg(['count', 'sum'])\n",
      "/var/folders/2n/0w23czwn2mjd3pg0c15vjyz80000gn/T/ipykernel_33054/2044337124.py:26: FutureWarning: The default of observed=False is deprecated and will be changed to True in a future version of pandas. Pass observed=False to retain current behavior or observed=True to adopt the future default and silence this warning.\n",
      "  grouped = temp_df.groupby('bin')[target].agg(['count', 'sum'])\n",
      "/var/folders/2n/0w23czwn2mjd3pg0c15vjyz80000gn/T/ipykernel_33054/2044337124.py:26: FutureWarning: The default of observed=False is deprecated and will be changed to True in a future version of pandas. Pass observed=False to retain current behavior or observed=True to adopt the future default and silence this warning.\n",
      "  grouped = temp_df.groupby('bin')[target].agg(['count', 'sum'])\n",
      "/var/folders/2n/0w23czwn2mjd3pg0c15vjyz80000gn/T/ipykernel_33054/2044337124.py:26: FutureWarning: The default of observed=False is deprecated and will be changed to True in a future version of pandas. Pass observed=False to retain current behavior or observed=True to adopt the future default and silence this warning.\n",
      "  grouped = temp_df.groupby('bin')[target].agg(['count', 'sum'])\n",
      "/var/folders/2n/0w23czwn2mjd3pg0c15vjyz80000gn/T/ipykernel_33054/2044337124.py:26: FutureWarning: The default of observed=False is deprecated and will be changed to True in a future version of pandas. Pass observed=False to retain current behavior or observed=True to adopt the future default and silence this warning.\n",
      "  grouped = temp_df.groupby('bin')[target].agg(['count', 'sum'])\n",
      "/var/folders/2n/0w23czwn2mjd3pg0c15vjyz80000gn/T/ipykernel_33054/2044337124.py:26: FutureWarning: The default of observed=False is deprecated and will be changed to True in a future version of pandas. Pass observed=False to retain current behavior or observed=True to adopt the future default and silence this warning.\n",
      "  grouped = temp_df.groupby('bin')[target].agg(['count', 'sum'])\n",
      "/var/folders/2n/0w23czwn2mjd3pg0c15vjyz80000gn/T/ipykernel_33054/2044337124.py:26: FutureWarning: The default of observed=False is deprecated and will be changed to True in a future version of pandas. Pass observed=False to retain current behavior or observed=True to adopt the future default and silence this warning.\n",
      "  grouped = temp_df.groupby('bin')[target].agg(['count', 'sum'])\n",
      "/var/folders/2n/0w23czwn2mjd3pg0c15vjyz80000gn/T/ipykernel_33054/2044337124.py:26: FutureWarning: The default of observed=False is deprecated and will be changed to True in a future version of pandas. Pass observed=False to retain current behavior or observed=True to adopt the future default and silence this warning.\n",
      "  grouped = temp_df.groupby('bin')[target].agg(['count', 'sum'])\n",
      "/var/folders/2n/0w23czwn2mjd3pg0c15vjyz80000gn/T/ipykernel_33054/2044337124.py:26: FutureWarning: The default of observed=False is deprecated and will be changed to True in a future version of pandas. Pass observed=False to retain current behavior or observed=True to adopt the future default and silence this warning.\n",
      "  grouped = temp_df.groupby('bin')[target].agg(['count', 'sum'])\n",
      "/var/folders/2n/0w23czwn2mjd3pg0c15vjyz80000gn/T/ipykernel_33054/2044337124.py:26: FutureWarning: The default of observed=False is deprecated and will be changed to True in a future version of pandas. Pass observed=False to retain current behavior or observed=True to adopt the future default and silence this warning.\n",
      "  grouped = temp_df.groupby('bin')[target].agg(['count', 'sum'])\n",
      "/var/folders/2n/0w23czwn2mjd3pg0c15vjyz80000gn/T/ipykernel_33054/2044337124.py:26: FutureWarning: The default of observed=False is deprecated and will be changed to True in a future version of pandas. Pass observed=False to retain current behavior or observed=True to adopt the future default and silence this warning.\n",
      "  grouped = temp_df.groupby('bin')[target].agg(['count', 'sum'])\n",
      "/var/folders/2n/0w23czwn2mjd3pg0c15vjyz80000gn/T/ipykernel_33054/2044337124.py:26: FutureWarning: The default of observed=False is deprecated and will be changed to True in a future version of pandas. Pass observed=False to retain current behavior or observed=True to adopt the future default and silence this warning.\n",
      "  grouped = temp_df.groupby('bin')[target].agg(['count', 'sum'])\n",
      "/var/folders/2n/0w23czwn2mjd3pg0c15vjyz80000gn/T/ipykernel_33054/2044337124.py:26: FutureWarning: The default of observed=False is deprecated and will be changed to True in a future version of pandas. Pass observed=False to retain current behavior or observed=True to adopt the future default and silence this warning.\n",
      "  grouped = temp_df.groupby('bin')[target].agg(['count', 'sum'])\n",
      "/var/folders/2n/0w23czwn2mjd3pg0c15vjyz80000gn/T/ipykernel_33054/2044337124.py:26: FutureWarning: The default of observed=False is deprecated and will be changed to True in a future version of pandas. Pass observed=False to retain current behavior or observed=True to adopt the future default and silence this warning.\n",
      "  grouped = temp_df.groupby('bin')[target].agg(['count', 'sum'])\n",
      "/var/folders/2n/0w23czwn2mjd3pg0c15vjyz80000gn/T/ipykernel_33054/2044337124.py:26: FutureWarning: The default of observed=False is deprecated and will be changed to True in a future version of pandas. Pass observed=False to retain current behavior or observed=True to adopt the future default and silence this warning.\n",
      "  grouped = temp_df.groupby('bin')[target].agg(['count', 'sum'])\n",
      "/var/folders/2n/0w23czwn2mjd3pg0c15vjyz80000gn/T/ipykernel_33054/2044337124.py:26: FutureWarning: The default of observed=False is deprecated and will be changed to True in a future version of pandas. Pass observed=False to retain current behavior or observed=True to adopt the future default and silence this warning.\n",
      "  grouped = temp_df.groupby('bin')[target].agg(['count', 'sum'])\n",
      "/var/folders/2n/0w23czwn2mjd3pg0c15vjyz80000gn/T/ipykernel_33054/2044337124.py:26: FutureWarning: The default of observed=False is deprecated and will be changed to True in a future version of pandas. Pass observed=False to retain current behavior or observed=True to adopt the future default and silence this warning.\n",
      "  grouped = temp_df.groupby('bin')[target].agg(['count', 'sum'])\n",
      "/var/folders/2n/0w23czwn2mjd3pg0c15vjyz80000gn/T/ipykernel_33054/2044337124.py:26: FutureWarning: The default of observed=False is deprecated and will be changed to True in a future version of pandas. Pass observed=False to retain current behavior or observed=True to adopt the future default and silence this warning.\n",
      "  grouped = temp_df.groupby('bin')[target].agg(['count', 'sum'])\n",
      "/var/folders/2n/0w23czwn2mjd3pg0c15vjyz80000gn/T/ipykernel_33054/2044337124.py:26: FutureWarning: The default of observed=False is deprecated and will be changed to True in a future version of pandas. Pass observed=False to retain current behavior or observed=True to adopt the future default and silence this warning.\n",
      "  grouped = temp_df.groupby('bin')[target].agg(['count', 'sum'])\n",
      "/var/folders/2n/0w23czwn2mjd3pg0c15vjyz80000gn/T/ipykernel_33054/2044337124.py:26: FutureWarning: The default of observed=False is deprecated and will be changed to True in a future version of pandas. Pass observed=False to retain current behavior or observed=True to adopt the future default and silence this warning.\n",
      "  grouped = temp_df.groupby('bin')[target].agg(['count', 'sum'])\n",
      "/var/folders/2n/0w23czwn2mjd3pg0c15vjyz80000gn/T/ipykernel_33054/2044337124.py:26: FutureWarning: The default of observed=False is deprecated and will be changed to True in a future version of pandas. Pass observed=False to retain current behavior or observed=True to adopt the future default and silence this warning.\n",
      "  grouped = temp_df.groupby('bin')[target].agg(['count', 'sum'])\n",
      "/var/folders/2n/0w23czwn2mjd3pg0c15vjyz80000gn/T/ipykernel_33054/2044337124.py:26: FutureWarning: The default of observed=False is deprecated and will be changed to True in a future version of pandas. Pass observed=False to retain current behavior or observed=True to adopt the future default and silence this warning.\n",
      "  grouped = temp_df.groupby('bin')[target].agg(['count', 'sum'])\n",
      "/var/folders/2n/0w23czwn2mjd3pg0c15vjyz80000gn/T/ipykernel_33054/2044337124.py:26: FutureWarning: The default of observed=False is deprecated and will be changed to True in a future version of pandas. Pass observed=False to retain current behavior or observed=True to adopt the future default and silence this warning.\n",
      "  grouped = temp_df.groupby('bin')[target].agg(['count', 'sum'])\n",
      "/var/folders/2n/0w23czwn2mjd3pg0c15vjyz80000gn/T/ipykernel_33054/2044337124.py:26: FutureWarning: The default of observed=False is deprecated and will be changed to True in a future version of pandas. Pass observed=False to retain current behavior or observed=True to adopt the future default and silence this warning.\n",
      "  grouped = temp_df.groupby('bin')[target].agg(['count', 'sum'])\n",
      "/var/folders/2n/0w23czwn2mjd3pg0c15vjyz80000gn/T/ipykernel_33054/2044337124.py:26: FutureWarning: The default of observed=False is deprecated and will be changed to True in a future version of pandas. Pass observed=False to retain current behavior or observed=True to adopt the future default and silence this warning.\n",
      "  grouped = temp_df.groupby('bin')[target].agg(['count', 'sum'])\n",
      "/var/folders/2n/0w23czwn2mjd3pg0c15vjyz80000gn/T/ipykernel_33054/2044337124.py:26: FutureWarning: The default of observed=False is deprecated and will be changed to True in a future version of pandas. Pass observed=False to retain current behavior or observed=True to adopt the future default and silence this warning.\n",
      "  grouped = temp_df.groupby('bin')[target].agg(['count', 'sum'])\n",
      "/var/folders/2n/0w23czwn2mjd3pg0c15vjyz80000gn/T/ipykernel_33054/2044337124.py:26: FutureWarning: The default of observed=False is deprecated and will be changed to True in a future version of pandas. Pass observed=False to retain current behavior or observed=True to adopt the future default and silence this warning.\n",
      "  grouped = temp_df.groupby('bin')[target].agg(['count', 'sum'])\n",
      "/var/folders/2n/0w23czwn2mjd3pg0c15vjyz80000gn/T/ipykernel_33054/2044337124.py:26: FutureWarning: The default of observed=False is deprecated and will be changed to True in a future version of pandas. Pass observed=False to retain current behavior or observed=True to adopt the future default and silence this warning.\n",
      "  grouped = temp_df.groupby('bin')[target].agg(['count', 'sum'])\n",
      "/var/folders/2n/0w23czwn2mjd3pg0c15vjyz80000gn/T/ipykernel_33054/2044337124.py:26: FutureWarning: The default of observed=False is deprecated and will be changed to True in a future version of pandas. Pass observed=False to retain current behavior or observed=True to adopt the future default and silence this warning.\n",
      "  grouped = temp_df.groupby('bin')[target].agg(['count', 'sum'])\n",
      "/var/folders/2n/0w23czwn2mjd3pg0c15vjyz80000gn/T/ipykernel_33054/2044337124.py:26: FutureWarning: The default of observed=False is deprecated and will be changed to True in a future version of pandas. Pass observed=False to retain current behavior or observed=True to adopt the future default and silence this warning.\n",
      "  grouped = temp_df.groupby('bin')[target].agg(['count', 'sum'])\n",
      "/var/folders/2n/0w23czwn2mjd3pg0c15vjyz80000gn/T/ipykernel_33054/2044337124.py:26: FutureWarning: The default of observed=False is deprecated and will be changed to True in a future version of pandas. Pass observed=False to retain current behavior or observed=True to adopt the future default and silence this warning.\n",
      "  grouped = temp_df.groupby('bin')[target].agg(['count', 'sum'])\n",
      "/var/folders/2n/0w23czwn2mjd3pg0c15vjyz80000gn/T/ipykernel_33054/2044337124.py:26: FutureWarning: The default of observed=False is deprecated and will be changed to True in a future version of pandas. Pass observed=False to retain current behavior or observed=True to adopt the future default and silence this warning.\n",
      "  grouped = temp_df.groupby('bin')[target].agg(['count', 'sum'])\n",
      "/var/folders/2n/0w23czwn2mjd3pg0c15vjyz80000gn/T/ipykernel_33054/2044337124.py:26: FutureWarning: The default of observed=False is deprecated and will be changed to True in a future version of pandas. Pass observed=False to retain current behavior or observed=True to adopt the future default and silence this warning.\n",
      "  grouped = temp_df.groupby('bin')[target].agg(['count', 'sum'])\n",
      "/var/folders/2n/0w23czwn2mjd3pg0c15vjyz80000gn/T/ipykernel_33054/2044337124.py:26: FutureWarning: The default of observed=False is deprecated and will be changed to True in a future version of pandas. Pass observed=False to retain current behavior or observed=True to adopt the future default and silence this warning.\n",
      "  grouped = temp_df.groupby('bin')[target].agg(['count', 'sum'])\n",
      "/var/folders/2n/0w23czwn2mjd3pg0c15vjyz80000gn/T/ipykernel_33054/2044337124.py:26: FutureWarning: The default of observed=False is deprecated and will be changed to True in a future version of pandas. Pass observed=False to retain current behavior or observed=True to adopt the future default and silence this warning.\n",
      "  grouped = temp_df.groupby('bin')[target].agg(['count', 'sum'])\n",
      "/var/folders/2n/0w23czwn2mjd3pg0c15vjyz80000gn/T/ipykernel_33054/2044337124.py:26: FutureWarning: The default of observed=False is deprecated and will be changed to True in a future version of pandas. Pass observed=False to retain current behavior or observed=True to adopt the future default and silence this warning.\n",
      "  grouped = temp_df.groupby('bin')[target].agg(['count', 'sum'])\n",
      "/var/folders/2n/0w23czwn2mjd3pg0c15vjyz80000gn/T/ipykernel_33054/2044337124.py:26: FutureWarning: The default of observed=False is deprecated and will be changed to True in a future version of pandas. Pass observed=False to retain current behavior or observed=True to adopt the future default and silence this warning.\n",
      "  grouped = temp_df.groupby('bin')[target].agg(['count', 'sum'])\n",
      "/var/folders/2n/0w23czwn2mjd3pg0c15vjyz80000gn/T/ipykernel_33054/2044337124.py:26: FutureWarning: The default of observed=False is deprecated and will be changed to True in a future version of pandas. Pass observed=False to retain current behavior or observed=True to adopt the future default and silence this warning.\n",
      "  grouped = temp_df.groupby('bin')[target].agg(['count', 'sum'])\n",
      "/var/folders/2n/0w23czwn2mjd3pg0c15vjyz80000gn/T/ipykernel_33054/2044337124.py:26: FutureWarning: The default of observed=False is deprecated and will be changed to True in a future version of pandas. Pass observed=False to retain current behavior or observed=True to adopt the future default and silence this warning.\n",
      "  grouped = temp_df.groupby('bin')[target].agg(['count', 'sum'])\n",
      "/var/folders/2n/0w23czwn2mjd3pg0c15vjyz80000gn/T/ipykernel_33054/2044337124.py:26: FutureWarning: The default of observed=False is deprecated and will be changed to True in a future version of pandas. Pass observed=False to retain current behavior or observed=True to adopt the future default and silence this warning.\n",
      "  grouped = temp_df.groupby('bin')[target].agg(['count', 'sum'])\n",
      "/var/folders/2n/0w23czwn2mjd3pg0c15vjyz80000gn/T/ipykernel_33054/2044337124.py:26: FutureWarning: The default of observed=False is deprecated and will be changed to True in a future version of pandas. Pass observed=False to retain current behavior or observed=True to adopt the future default and silence this warning.\n",
      "  grouped = temp_df.groupby('bin')[target].agg(['count', 'sum'])\n",
      "/var/folders/2n/0w23czwn2mjd3pg0c15vjyz80000gn/T/ipykernel_33054/2044337124.py:26: FutureWarning: The default of observed=False is deprecated and will be changed to True in a future version of pandas. Pass observed=False to retain current behavior or observed=True to adopt the future default and silence this warning.\n",
      "  grouped = temp_df.groupby('bin')[target].agg(['count', 'sum'])\n",
      "/var/folders/2n/0w23czwn2mjd3pg0c15vjyz80000gn/T/ipykernel_33054/2044337124.py:26: FutureWarning: The default of observed=False is deprecated and will be changed to True in a future version of pandas. Pass observed=False to retain current behavior or observed=True to adopt the future default and silence this warning.\n",
      "  grouped = temp_df.groupby('bin')[target].agg(['count', 'sum'])\n",
      "/var/folders/2n/0w23czwn2mjd3pg0c15vjyz80000gn/T/ipykernel_33054/2044337124.py:26: FutureWarning: The default of observed=False is deprecated and will be changed to True in a future version of pandas. Pass observed=False to retain current behavior or observed=True to adopt the future default and silence this warning.\n",
      "  grouped = temp_df.groupby('bin')[target].agg(['count', 'sum'])\n",
      "/var/folders/2n/0w23czwn2mjd3pg0c15vjyz80000gn/T/ipykernel_33054/2044337124.py:26: FutureWarning: The default of observed=False is deprecated and will be changed to True in a future version of pandas. Pass observed=False to retain current behavior or observed=True to adopt the future default and silence this warning.\n",
      "  grouped = temp_df.groupby('bin')[target].agg(['count', 'sum'])\n",
      "/var/folders/2n/0w23czwn2mjd3pg0c15vjyz80000gn/T/ipykernel_33054/2044337124.py:26: FutureWarning: The default of observed=False is deprecated and will be changed to True in a future version of pandas. Pass observed=False to retain current behavior or observed=True to adopt the future default and silence this warning.\n",
      "  grouped = temp_df.groupby('bin')[target].agg(['count', 'sum'])\n",
      "/var/folders/2n/0w23czwn2mjd3pg0c15vjyz80000gn/T/ipykernel_33054/2044337124.py:26: FutureWarning: The default of observed=False is deprecated and will be changed to True in a future version of pandas. Pass observed=False to retain current behavior or observed=True to adopt the future default and silence this warning.\n",
      "  grouped = temp_df.groupby('bin')[target].agg(['count', 'sum'])\n",
      "/var/folders/2n/0w23czwn2mjd3pg0c15vjyz80000gn/T/ipykernel_33054/2044337124.py:26: FutureWarning: The default of observed=False is deprecated and will be changed to True in a future version of pandas. Pass observed=False to retain current behavior or observed=True to adopt the future default and silence this warning.\n",
      "  grouped = temp_df.groupby('bin')[target].agg(['count', 'sum'])\n",
      "/var/folders/2n/0w23czwn2mjd3pg0c15vjyz80000gn/T/ipykernel_33054/2044337124.py:26: FutureWarning: The default of observed=False is deprecated and will be changed to True in a future version of pandas. Pass observed=False to retain current behavior or observed=True to adopt the future default and silence this warning.\n",
      "  grouped = temp_df.groupby('bin')[target].agg(['count', 'sum'])\n",
      "/var/folders/2n/0w23czwn2mjd3pg0c15vjyz80000gn/T/ipykernel_33054/2044337124.py:26: FutureWarning: The default of observed=False is deprecated and will be changed to True in a future version of pandas. Pass observed=False to retain current behavior or observed=True to adopt the future default and silence this warning.\n",
      "  grouped = temp_df.groupby('bin')[target].agg(['count', 'sum'])\n",
      "/var/folders/2n/0w23czwn2mjd3pg0c15vjyz80000gn/T/ipykernel_33054/2044337124.py:26: FutureWarning: The default of observed=False is deprecated and will be changed to True in a future version of pandas. Pass observed=False to retain current behavior or observed=True to adopt the future default and silence this warning.\n",
      "  grouped = temp_df.groupby('bin')[target].agg(['count', 'sum'])\n",
      "/var/folders/2n/0w23czwn2mjd3pg0c15vjyz80000gn/T/ipykernel_33054/2044337124.py:26: FutureWarning: The default of observed=False is deprecated and will be changed to True in a future version of pandas. Pass observed=False to retain current behavior or observed=True to adopt the future default and silence this warning.\n",
      "  grouped = temp_df.groupby('bin')[target].agg(['count', 'sum'])\n",
      "/var/folders/2n/0w23czwn2mjd3pg0c15vjyz80000gn/T/ipykernel_33054/2044337124.py:26: FutureWarning: The default of observed=False is deprecated and will be changed to True in a future version of pandas. Pass observed=False to retain current behavior or observed=True to adopt the future default and silence this warning.\n",
      "  grouped = temp_df.groupby('bin')[target].agg(['count', 'sum'])\n",
      "/var/folders/2n/0w23czwn2mjd3pg0c15vjyz80000gn/T/ipykernel_33054/2044337124.py:26: FutureWarning: The default of observed=False is deprecated and will be changed to True in a future version of pandas. Pass observed=False to retain current behavior or observed=True to adopt the future default and silence this warning.\n",
      "  grouped = temp_df.groupby('bin')[target].agg(['count', 'sum'])\n",
      "/var/folders/2n/0w23czwn2mjd3pg0c15vjyz80000gn/T/ipykernel_33054/2044337124.py:26: FutureWarning: The default of observed=False is deprecated and will be changed to True in a future version of pandas. Pass observed=False to retain current behavior or observed=True to adopt the future default and silence this warning.\n",
      "  grouped = temp_df.groupby('bin')[target].agg(['count', 'sum'])\n",
      "/var/folders/2n/0w23czwn2mjd3pg0c15vjyz80000gn/T/ipykernel_33054/2044337124.py:26: FutureWarning: The default of observed=False is deprecated and will be changed to True in a future version of pandas. Pass observed=False to retain current behavior or observed=True to adopt the future default and silence this warning.\n",
      "  grouped = temp_df.groupby('bin')[target].agg(['count', 'sum'])\n",
      "/var/folders/2n/0w23czwn2mjd3pg0c15vjyz80000gn/T/ipykernel_33054/2044337124.py:26: FutureWarning: The default of observed=False is deprecated and will be changed to True in a future version of pandas. Pass observed=False to retain current behavior or observed=True to adopt the future default and silence this warning.\n",
      "  grouped = temp_df.groupby('bin')[target].agg(['count', 'sum'])\n",
      "/var/folders/2n/0w23czwn2mjd3pg0c15vjyz80000gn/T/ipykernel_33054/2044337124.py:26: FutureWarning: The default of observed=False is deprecated and will be changed to True in a future version of pandas. Pass observed=False to retain current behavior or observed=True to adopt the future default and silence this warning.\n",
      "  grouped = temp_df.groupby('bin')[target].agg(['count', 'sum'])\n",
      "/var/folders/2n/0w23czwn2mjd3pg0c15vjyz80000gn/T/ipykernel_33054/2044337124.py:26: FutureWarning: The default of observed=False is deprecated and will be changed to True in a future version of pandas. Pass observed=False to retain current behavior or observed=True to adopt the future default and silence this warning.\n",
      "  grouped = temp_df.groupby('bin')[target].agg(['count', 'sum'])\n",
      "/var/folders/2n/0w23czwn2mjd3pg0c15vjyz80000gn/T/ipykernel_33054/2044337124.py:26: FutureWarning: The default of observed=False is deprecated and will be changed to True in a future version of pandas. Pass observed=False to retain current behavior or observed=True to adopt the future default and silence this warning.\n",
      "  grouped = temp_df.groupby('bin')[target].agg(['count', 'sum'])\n",
      "/var/folders/2n/0w23czwn2mjd3pg0c15vjyz80000gn/T/ipykernel_33054/2044337124.py:26: FutureWarning: The default of observed=False is deprecated and will be changed to True in a future version of pandas. Pass observed=False to retain current behavior or observed=True to adopt the future default and silence this warning.\n",
      "  grouped = temp_df.groupby('bin')[target].agg(['count', 'sum'])\n",
      "/var/folders/2n/0w23czwn2mjd3pg0c15vjyz80000gn/T/ipykernel_33054/2044337124.py:26: FutureWarning: The default of observed=False is deprecated and will be changed to True in a future version of pandas. Pass observed=False to retain current behavior or observed=True to adopt the future default and silence this warning.\n",
      "  grouped = temp_df.groupby('bin')[target].agg(['count', 'sum'])\n",
      "/var/folders/2n/0w23czwn2mjd3pg0c15vjyz80000gn/T/ipykernel_33054/2044337124.py:26: FutureWarning: The default of observed=False is deprecated and will be changed to True in a future version of pandas. Pass observed=False to retain current behavior or observed=True to adopt the future default and silence this warning.\n",
      "  grouped = temp_df.groupby('bin')[target].agg(['count', 'sum'])\n",
      "/var/folders/2n/0w23czwn2mjd3pg0c15vjyz80000gn/T/ipykernel_33054/2044337124.py:26: FutureWarning: The default of observed=False is deprecated and will be changed to True in a future version of pandas. Pass observed=False to retain current behavior or observed=True to adopt the future default and silence this warning.\n",
      "  grouped = temp_df.groupby('bin')[target].agg(['count', 'sum'])\n",
      "/var/folders/2n/0w23czwn2mjd3pg0c15vjyz80000gn/T/ipykernel_33054/2044337124.py:26: FutureWarning: The default of observed=False is deprecated and will be changed to True in a future version of pandas. Pass observed=False to retain current behavior or observed=True to adopt the future default and silence this warning.\n",
      "  grouped = temp_df.groupby('bin')[target].agg(['count', 'sum'])\n",
      "/var/folders/2n/0w23czwn2mjd3pg0c15vjyz80000gn/T/ipykernel_33054/2044337124.py:26: FutureWarning: The default of observed=False is deprecated and will be changed to True in a future version of pandas. Pass observed=False to retain current behavior or observed=True to adopt the future default and silence this warning.\n",
      "  grouped = temp_df.groupby('bin')[target].agg(['count', 'sum'])\n",
      "/var/folders/2n/0w23czwn2mjd3pg0c15vjyz80000gn/T/ipykernel_33054/2044337124.py:26: FutureWarning: The default of observed=False is deprecated and will be changed to True in a future version of pandas. Pass observed=False to retain current behavior or observed=True to adopt the future default and silence this warning.\n",
      "  grouped = temp_df.groupby('bin')[target].agg(['count', 'sum'])\n",
      "/var/folders/2n/0w23czwn2mjd3pg0c15vjyz80000gn/T/ipykernel_33054/2044337124.py:26: FutureWarning: The default of observed=False is deprecated and will be changed to True in a future version of pandas. Pass observed=False to retain current behavior or observed=True to adopt the future default and silence this warning.\n",
      "  grouped = temp_df.groupby('bin')[target].agg(['count', 'sum'])\n",
      "/var/folders/2n/0w23czwn2mjd3pg0c15vjyz80000gn/T/ipykernel_33054/2044337124.py:26: FutureWarning: The default of observed=False is deprecated and will be changed to True in a future version of pandas. Pass observed=False to retain current behavior or observed=True to adopt the future default and silence this warning.\n",
      "  grouped = temp_df.groupby('bin')[target].agg(['count', 'sum'])\n",
      "/var/folders/2n/0w23czwn2mjd3pg0c15vjyz80000gn/T/ipykernel_33054/2044337124.py:26: FutureWarning: The default of observed=False is deprecated and will be changed to True in a future version of pandas. Pass observed=False to retain current behavior or observed=True to adopt the future default and silence this warning.\n",
      "  grouped = temp_df.groupby('bin')[target].agg(['count', 'sum'])\n",
      "/var/folders/2n/0w23czwn2mjd3pg0c15vjyz80000gn/T/ipykernel_33054/2044337124.py:26: FutureWarning: The default of observed=False is deprecated and will be changed to True in a future version of pandas. Pass observed=False to retain current behavior or observed=True to adopt the future default and silence this warning.\n",
      "  grouped = temp_df.groupby('bin')[target].agg(['count', 'sum'])\n",
      "/var/folders/2n/0w23czwn2mjd3pg0c15vjyz80000gn/T/ipykernel_33054/2044337124.py:26: FutureWarning: The default of observed=False is deprecated and will be changed to True in a future version of pandas. Pass observed=False to retain current behavior or observed=True to adopt the future default and silence this warning.\n",
      "  grouped = temp_df.groupby('bin')[target].agg(['count', 'sum'])\n",
      "/var/folders/2n/0w23czwn2mjd3pg0c15vjyz80000gn/T/ipykernel_33054/2044337124.py:26: FutureWarning: The default of observed=False is deprecated and will be changed to True in a future version of pandas. Pass observed=False to retain current behavior or observed=True to adopt the future default and silence this warning.\n",
      "  grouped = temp_df.groupby('bin')[target].agg(['count', 'sum'])\n",
      "/var/folders/2n/0w23czwn2mjd3pg0c15vjyz80000gn/T/ipykernel_33054/2044337124.py:26: FutureWarning: The default of observed=False is deprecated and will be changed to True in a future version of pandas. Pass observed=False to retain current behavior or observed=True to adopt the future default and silence this warning.\n",
      "  grouped = temp_df.groupby('bin')[target].agg(['count', 'sum'])\n",
      "/var/folders/2n/0w23czwn2mjd3pg0c15vjyz80000gn/T/ipykernel_33054/2044337124.py:26: FutureWarning: The default of observed=False is deprecated and will be changed to True in a future version of pandas. Pass observed=False to retain current behavior or observed=True to adopt the future default and silence this warning.\n",
      "  grouped = temp_df.groupby('bin')[target].agg(['count', 'sum'])\n",
      "/var/folders/2n/0w23czwn2mjd3pg0c15vjyz80000gn/T/ipykernel_33054/2044337124.py:26: FutureWarning: The default of observed=False is deprecated and will be changed to True in a future version of pandas. Pass observed=False to retain current behavior or observed=True to adopt the future default and silence this warning.\n",
      "  grouped = temp_df.groupby('bin')[target].agg(['count', 'sum'])\n",
      "/var/folders/2n/0w23czwn2mjd3pg0c15vjyz80000gn/T/ipykernel_33054/2044337124.py:26: FutureWarning: The default of observed=False is deprecated and will be changed to True in a future version of pandas. Pass observed=False to retain current behavior or observed=True to adopt the future default and silence this warning.\n",
      "  grouped = temp_df.groupby('bin')[target].agg(['count', 'sum'])\n",
      "/var/folders/2n/0w23czwn2mjd3pg0c15vjyz80000gn/T/ipykernel_33054/2044337124.py:26: FutureWarning: The default of observed=False is deprecated and will be changed to True in a future version of pandas. Pass observed=False to retain current behavior or observed=True to adopt the future default and silence this warning.\n",
      "  grouped = temp_df.groupby('bin')[target].agg(['count', 'sum'])\n",
      "/var/folders/2n/0w23czwn2mjd3pg0c15vjyz80000gn/T/ipykernel_33054/2044337124.py:26: FutureWarning: The default of observed=False is deprecated and will be changed to True in a future version of pandas. Pass observed=False to retain current behavior or observed=True to adopt the future default and silence this warning.\n",
      "  grouped = temp_df.groupby('bin')[target].agg(['count', 'sum'])\n",
      "/var/folders/2n/0w23czwn2mjd3pg0c15vjyz80000gn/T/ipykernel_33054/2044337124.py:26: FutureWarning: The default of observed=False is deprecated and will be changed to True in a future version of pandas. Pass observed=False to retain current behavior or observed=True to adopt the future default and silence this warning.\n",
      "  grouped = temp_df.groupby('bin')[target].agg(['count', 'sum'])\n",
      "/var/folders/2n/0w23czwn2mjd3pg0c15vjyz80000gn/T/ipykernel_33054/2044337124.py:26: FutureWarning: The default of observed=False is deprecated and will be changed to True in a future version of pandas. Pass observed=False to retain current behavior or observed=True to adopt the future default and silence this warning.\n",
      "  grouped = temp_df.groupby('bin')[target].agg(['count', 'sum'])\n",
      "/var/folders/2n/0w23czwn2mjd3pg0c15vjyz80000gn/T/ipykernel_33054/2044337124.py:26: FutureWarning: The default of observed=False is deprecated and will be changed to True in a future version of pandas. Pass observed=False to retain current behavior or observed=True to adopt the future default and silence this warning.\n",
      "  grouped = temp_df.groupby('bin')[target].agg(['count', 'sum'])\n",
      "/var/folders/2n/0w23czwn2mjd3pg0c15vjyz80000gn/T/ipykernel_33054/2044337124.py:26: FutureWarning: The default of observed=False is deprecated and will be changed to True in a future version of pandas. Pass observed=False to retain current behavior or observed=True to adopt the future default and silence this warning.\n",
      "  grouped = temp_df.groupby('bin')[target].agg(['count', 'sum'])\n",
      "/var/folders/2n/0w23czwn2mjd3pg0c15vjyz80000gn/T/ipykernel_33054/2044337124.py:26: FutureWarning: The default of observed=False is deprecated and will be changed to True in a future version of pandas. Pass observed=False to retain current behavior or observed=True to adopt the future default and silence this warning.\n",
      "  grouped = temp_df.groupby('bin')[target].agg(['count', 'sum'])\n",
      "/var/folders/2n/0w23czwn2mjd3pg0c15vjyz80000gn/T/ipykernel_33054/2044337124.py:26: FutureWarning: The default of observed=False is deprecated and will be changed to True in a future version of pandas. Pass observed=False to retain current behavior or observed=True to adopt the future default and silence this warning.\n",
      "  grouped = temp_df.groupby('bin')[target].agg(['count', 'sum'])\n",
      "/var/folders/2n/0w23czwn2mjd3pg0c15vjyz80000gn/T/ipykernel_33054/2044337124.py:26: FutureWarning: The default of observed=False is deprecated and will be changed to True in a future version of pandas. Pass observed=False to retain current behavior or observed=True to adopt the future default and silence this warning.\n",
      "  grouped = temp_df.groupby('bin')[target].agg(['count', 'sum'])\n"
     ]
    }
   ],
   "source": [
    "# Example: Assuming your target column is named 'target'\n",
    "iv_result = calculate_iv_all_features(train_df_complete, target_col='target').reset_index()\n",
    "iv_result.to_csv(\"IV_result.csv\", index=False)"
   ]
  },
  {
   "cell_type": "markdown",
   "id": "f33762f8-b2d0-4d6c-889d-926736f75000",
   "metadata": {},
   "source": [
    "#### Removing features who have weak predictive power i.e IV < 0.02 ####"
   ]
  },
  {
   "cell_type": "code",
   "execution_count": 20,
   "id": "c68d9861-a653-4f8c-a7c4-47d0fd5b0233",
   "metadata": {},
   "outputs": [
    {
     "data": {
      "text/plain": [
       "38"
      ]
     },
     "execution_count": 20,
     "metadata": {},
     "output_type": "execute_result"
    }
   ],
   "source": [
    "columns_to_remove_weak_iv = iv_result[iv_result[\"IV\"] < 0.02][\"index\"].to_list()\n",
    "len(columns_to_remove_weak_iv)"
   ]
  },
  {
   "cell_type": "markdown",
   "id": "574904b1-ea3a-4151-8404-d3b6a7fcc3fb",
   "metadata": {},
   "source": [
    "#### Removing features who have suprisingly higher predictive power i.e IV > 0.5 ####"
   ]
  },
  {
   "cell_type": "code",
   "execution_count": 21,
   "id": "b514278f-0cf0-4214-a062-41be6e425a04",
   "metadata": {
    "scrolled": true
   },
   "outputs": [
    {
     "data": {
      "text/plain": [
       "47"
      ]
     },
     "execution_count": 21,
     "metadata": {},
     "output_type": "execute_result"
    }
   ],
   "source": [
    "columns_to_remove_hyper_iv = iv_result[iv_result[\"IV\"] > 0.5][\"index\"].to_list()\n",
    "len(columns_to_remove_hyper_iv)"
   ]
  },
  {
   "cell_type": "markdown",
   "id": "1bba6841-1405-40df-ab15-f2855880e1be",
   "metadata": {},
   "source": [
    "#### Concatinating both the lists and removing these features from the train dataset ####"
   ]
  },
  {
   "cell_type": "code",
   "execution_count": 22,
   "id": "3aaccda7-e212-4085-a20d-ca956c1dabb0",
   "metadata": {},
   "outputs": [
    {
     "data": {
      "text/plain": [
       "85"
      ]
     },
     "execution_count": 22,
     "metadata": {},
     "output_type": "execute_result"
    }
   ],
   "source": [
    "columns_to_remove_weak_iv.extend(columns_to_remove_hyper_iv)\n",
    "len(columns_to_remove_weak_iv)"
   ]
  },
  {
   "cell_type": "markdown",
   "id": "3be239d3-ae24-445f-b803-0737e9458eaa",
   "metadata": {},
   "source": [
    "#### Dropped 85 features from IV method ####"
   ]
  },
  {
   "cell_type": "code",
   "execution_count": 23,
   "id": "4cba9fa4-02db-40c5-a5b9-f7276931c46e",
   "metadata": {},
   "outputs": [
    {
     "data": {
      "text/plain": [
       "(70000, 90)"
      ]
     },
     "execution_count": 23,
     "metadata": {},
     "output_type": "execute_result"
    }
   ],
   "source": [
    "train_df_complete.drop(columns_to_remove_weak_iv, axis=1, inplace=True)\n",
    "train_df_complete.shape"
   ]
  },
  {
   "cell_type": "markdown",
   "id": "9240ea21-49d1-447d-b2bd-65a8f3db61ab",
   "metadata": {},
   "source": [
    "#### Apply pearson correlation to remove highly correlated variables on the above train dataset ####"
   ]
  },
  {
   "cell_type": "code",
   "execution_count": 24,
   "id": "df6171c9-5c67-4f89-82a4-0d8f2802bdf4",
   "metadata": {},
   "outputs": [],
   "source": [
    "def correlation(dataset, threshold, verbose=False):\n",
    "    \"\"\"\n",
    "    Identify highly correlated features to drop based on a threshold.\n",
    "\n",
    "    Parameters:\n",
    "    - dataset (pd.DataFrame): The input DataFrame with numeric columns.\n",
    "    - threshold (float): Correlation threshold above which to drop one of the variables.\n",
    "    - verbose (bool): If True, prints each pair of correlated features.\n",
    "\n",
    "    Returns:\n",
    "    - col_corr (set): Set of column names to consider for dropping.\n",
    "    \"\"\"\n",
    "    col_corr = set()\n",
    "    corr_matrix = dataset.corr(numeric_only=True)\n",
    "\n",
    "    for i in range(len(corr_matrix.columns)):\n",
    "        for j in range(i):\n",
    "            corr_value = abs(corr_matrix.iloc[i, j])\n",
    "            if corr_value > threshold:\n",
    "                colname = corr_matrix.columns[i]\n",
    "                if verbose:\n",
    "                    print(f\"High correlation ({corr_value:.2f}) between: {colname} and {corr_matrix.columns[j]}\")\n",
    "                col_corr.add(colname)\n",
    "    return col_corr\n"
   ]
  },
  {
   "cell_type": "markdown",
   "id": "ff59a70e-4c38-406e-ad4a-81581aba4326",
   "metadata": {},
   "source": [
    "#### Removing correlated features with threshold greater than or equal to 75% ####"
   ]
  },
  {
   "cell_type": "code",
   "execution_count": 25,
   "id": "1617fb99-1e83-4b75-a8b5-a6822e478028",
   "metadata": {
    "scrolled": true
   },
   "outputs": [
    {
     "name": "stdout",
     "output_type": "stream",
     "text": [
      "High correlation (0.78) between: R_4 and R_2\n",
      "High correlation (0.92) between: B_13 and B_12\n",
      "High correlation (0.80) between: S_15 and S_8\n",
      "High correlation (0.79) between: R_8 and R_5\n",
      "High correlation (0.78) between: S_16 and B_21\n",
      "High correlation (0.77) between: D_84 and D_53\n",
      "High correlation (1.00) between: D_104 and D_103\n",
      "High correlation (0.85) between: D_107 and D_103\n",
      "High correlation (0.84) between: D_107 and D_104\n",
      "High correlation (0.82) between: D_118 and D_115\n",
      "High correlation (0.82) between: D_119 and D_115\n",
      "High correlation (1.00) between: D_119 and D_118\n",
      "High correlation (0.75) between: D_129 and D_128\n",
      "High correlation (0.90) between: D_131 and D_79\n",
      "High correlation (0.92) between: D_132 and D_131\n",
      "High correlation (1.00) between: D_141 and D_139\n",
      "High correlation (0.80) between: D_142 and D_141\n",
      "High correlation (1.00) between: D_143 and D_139\n",
      "High correlation (1.00) between: D_143 and D_141\n",
      "Final train dataset shape:  (70000, 74)\n"
     ]
    }
   ],
   "source": [
    "high_corr_cols = correlation(train_df_complete, threshold=0.75, verbose=True)\n",
    "train_df_complete_corr = train_df_complete.drop(columns=high_corr_cols)\n",
    "print(\"Final train dataset shape: \", train_df_complete_corr.shape)"
   ]
  },
  {
   "cell_type": "markdown",
   "id": "5963a3b4-8449-4299-bc17-fd36d16a945a",
   "metadata": {},
   "source": [
    "#### Dropped 16 features using pearson correlation ####"
   ]
  },
  {
   "cell_type": "markdown",
   "id": "b46a345d-aec1-4de0-9b00-d13657877d36",
   "metadata": {},
   "source": [
    "#### Perform one-hot encoding for 2 categorical features ####"
   ]
  },
  {
   "cell_type": "code",
   "execution_count": 26,
   "id": "938d2288-16d6-402f-bff7-4f0e378def21",
   "metadata": {},
   "outputs": [],
   "source": [
    "cat_cols = [\"D_64\", \"D_63\"]\n",
    "train_df_complete_corr_encd = pd.get_dummies(train_df_complete_corr, columns=cat_cols)"
   ]
  },
  {
   "cell_type": "markdown",
   "id": "630e4abc-566e-47b1-8641-72fb27177dce",
   "metadata": {},
   "source": [
    "#### Saving the processed and final train and test datasets ####"
   ]
  },
  {
   "cell_type": "code",
   "execution_count": 27,
   "id": "6a3d9777-e185-455e-ad8d-cfdd21e51238",
   "metadata": {},
   "outputs": [],
   "source": [
    "train_df_complete_corr_encd.to_csv(\"/Users/anugrahrastogi21gmail.com/Documents/USD_project/customer-credit-default-prediction/01_data/processed_train_data.csv\", \n",
    "                              index=False)\n"
   ]
  },
  {
   "cell_type": "markdown",
   "id": "0a972aa4-9ca0-4fce-9419-2d5a43f23edc",
   "metadata": {},
   "source": [
    "#### Since the test data is of 33Gb, we need to reduce the size of our test data to 33k records and to be able to push the data files into Github repository #### "
   ]
  },
  {
   "cell_type": "code",
   "execution_count": 28,
   "id": "e4912a06-6118-4709-b007-b1e66b13f90f",
   "metadata": {},
   "outputs": [
    {
     "name": "stdout",
     "output_type": "stream",
     "text": [
      "(33000, 190)\n"
     ]
    }
   ],
   "source": [
    "\n",
    "test_iter = pd.read_csv('/Users/anugrahrastogi21gmail.com/Downloads/amex-default-prediction/test_data.csv', chunksize=33_000)  # 1 million rows per chunk\n",
    "\n",
    "for chunk in test_iter:\n",
    "    print(chunk.shape)\n",
    "    # process or save each chunk\n",
    "    chunk.to_csv(\"/Users/anugrahrastogi21gmail.com/Documents/USD_project/customer-credit-default-prediction/01_data/test_data.csv\", index=False)\n",
    "    break\n",
    "    "
   ]
  },
  {
   "cell_type": "code",
   "execution_count": 39,
   "id": "0f563ec2-eb52-4635-90c6-f04f9692ef08",
   "metadata": {},
   "outputs": [],
   "source": [
    "test_df = pd.read_csv(\"/Users/anugrahrastogi21gmail.com/Documents/USD_project/customer-credit-default-prediction/02_data_prep/test_data.csv\")\n",
    "columns_list = train_df_complete_corr.columns.to_list()\n",
    "columns_list.remove(\"target\")\n",
    "test_df = test_df[columns_list]\n",
    "cat_cols = [\"D_64\", \"D_63\"]\n",
    "test_df_encd = pd.get_dummies(test_df, columns=cat_cols)\n",
    "test_df_encd.to_csv(\"/Users/anugrahrastogi21gmail.com/Documents/USD_project/customer-credit-default-prediction/01_data/processed_test_data.csv\", index=False)\n",
    "\n"
   ]
  },
  {
   "cell_type": "code",
   "execution_count": null,
   "id": "a8b22b38-d6d3-4f0a-94d4-a13b79937f3e",
   "metadata": {},
   "outputs": [],
   "source": []
  }
 ],
 "metadata": {
  "kernelspec": {
   "display_name": "Python 3 (ipykernel)",
   "language": "python",
   "name": "python3"
  },
  "language_info": {
   "codemirror_mode": {
    "name": "ipython",
    "version": 3
   },
   "file_extension": ".py",
   "mimetype": "text/x-python",
   "name": "python",
   "nbconvert_exporter": "python",
   "pygments_lexer": "ipython3",
   "version": "3.12.2"
  }
 },
 "nbformat": 4,
 "nbformat_minor": 5
}
